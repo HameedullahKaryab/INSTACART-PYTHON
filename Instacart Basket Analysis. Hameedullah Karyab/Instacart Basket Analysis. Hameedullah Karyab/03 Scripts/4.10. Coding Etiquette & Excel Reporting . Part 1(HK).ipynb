{
 "cells": [
  {
   "cell_type": "code",
   "execution_count": 1,
   "id": "c5f2521c",
   "metadata": {},
   "outputs": [],
   "source": [
    "# 1. Importing libraries\n",
    "import pandas as pd\n",
    "import numpy as np\n",
    "import os\n",
    "import matplotlib.pyplot as plt\n",
    "import seaborn as sns\n",
    "import scipy"
   ]
  },
  {
   "cell_type": "code",
   "execution_count": 2,
   "id": "65a596fa",
   "metadata": {},
   "outputs": [],
   "source": [
    "# 2. Set Path\n",
    "path = r'C:\\Users\\karya\\Instacart Basket Analysis'"
   ]
  },
  {
   "cell_type": "code",
   "execution_count": 3,
   "id": "095cd5a3",
   "metadata": {},
   "outputs": [
    {
     "data": {
      "text/plain": [
       "'C:\\\\Users\\\\karya\\\\Instacart Basket Analysis'"
      ]
     },
     "execution_count": 3,
     "metadata": {},
     "output_type": "execute_result"
    }
   ],
   "source": [
    "path"
   ]
  },
  {
   "cell_type": "markdown",
   "id": "5aea4925",
   "metadata": {},
   "source": [
    "#### Q1. Import the data set you exported in Exercise 4.9 into a new Jupyter notebook. This should be the merged version of your data that contains the new customers colum"
   ]
  },
  {
   "cell_type": "code",
   "execution_count": 4,
   "id": "0450e195",
   "metadata": {},
   "outputs": [],
   "source": [
    "# Importing orders_products_customer_merged\n",
    "df_orders_products_customer_merged = pd.read_pickle(os.path.join(path, '02 Data', 'Prepared Data', 'orders_products_customer_merged.pkl'))"
   ]
  },
  {
   "cell_type": "code",
   "execution_count": 5,
   "id": "91cbfb17",
   "metadata": {},
   "outputs": [
    {
     "data": {
      "text/html": [
       "<div>\n",
       "<style scoped>\n",
       "    .dataframe tbody tr th:only-of-type {\n",
       "        vertical-align: middle;\n",
       "    }\n",
       "\n",
       "    .dataframe tbody tr th {\n",
       "        vertical-align: top;\n",
       "    }\n",
       "\n",
       "    .dataframe thead th {\n",
       "        text-align: right;\n",
       "    }\n",
       "</style>\n",
       "<table border=\"1\" class=\"dataframe\">\n",
       "  <thead>\n",
       "    <tr style=\"text-align: right;\">\n",
       "      <th></th>\n",
       "      <th>order_id</th>\n",
       "      <th>user_id</th>\n",
       "      <th>order_number</th>\n",
       "      <th>orders_day_of_week</th>\n",
       "      <th>order_time_of_day</th>\n",
       "      <th>days_since_prior_order</th>\n",
       "      <th>product_id</th>\n",
       "      <th>add_to_cart_order</th>\n",
       "      <th>reordered</th>\n",
       "      <th>_merge</th>\n",
       "      <th>...</th>\n",
       "      <th>order_frequency_flag</th>\n",
       "      <th>first_name</th>\n",
       "      <th>surname</th>\n",
       "      <th>gender</th>\n",
       "      <th>state</th>\n",
       "      <th>age</th>\n",
       "      <th>date_joined</th>\n",
       "      <th>n_dependants</th>\n",
       "      <th>fam_status</th>\n",
       "      <th>income</th>\n",
       "    </tr>\n",
       "  </thead>\n",
       "  <tbody>\n",
       "    <tr>\n",
       "      <th>0</th>\n",
       "      <td>2539329</td>\n",
       "      <td>1</td>\n",
       "      <td>1</td>\n",
       "      <td>2</td>\n",
       "      <td>8</td>\n",
       "      <td>NaN</td>\n",
       "      <td>196.0</td>\n",
       "      <td>1.0</td>\n",
       "      <td>0.0</td>\n",
       "      <td>both</td>\n",
       "      <td>...</td>\n",
       "      <td>Non-frequent customer</td>\n",
       "      <td>Linda</td>\n",
       "      <td>Nguyen</td>\n",
       "      <td>Female</td>\n",
       "      <td>Alabama</td>\n",
       "      <td>31</td>\n",
       "      <td>2/17/2019</td>\n",
       "      <td>3</td>\n",
       "      <td>married</td>\n",
       "      <td>40423</td>\n",
       "    </tr>\n",
       "    <tr>\n",
       "      <th>1</th>\n",
       "      <td>2398795</td>\n",
       "      <td>1</td>\n",
       "      <td>2</td>\n",
       "      <td>3</td>\n",
       "      <td>7</td>\n",
       "      <td>15.0</td>\n",
       "      <td>196.0</td>\n",
       "      <td>1.0</td>\n",
       "      <td>1.0</td>\n",
       "      <td>both</td>\n",
       "      <td>...</td>\n",
       "      <td>Non-frequent customer</td>\n",
       "      <td>Linda</td>\n",
       "      <td>Nguyen</td>\n",
       "      <td>Female</td>\n",
       "      <td>Alabama</td>\n",
       "      <td>31</td>\n",
       "      <td>2/17/2019</td>\n",
       "      <td>3</td>\n",
       "      <td>married</td>\n",
       "      <td>40423</td>\n",
       "    </tr>\n",
       "    <tr>\n",
       "      <th>2</th>\n",
       "      <td>473747</td>\n",
       "      <td>1</td>\n",
       "      <td>3</td>\n",
       "      <td>3</td>\n",
       "      <td>12</td>\n",
       "      <td>21.0</td>\n",
       "      <td>196.0</td>\n",
       "      <td>1.0</td>\n",
       "      <td>1.0</td>\n",
       "      <td>both</td>\n",
       "      <td>...</td>\n",
       "      <td>Non-frequent customer</td>\n",
       "      <td>Linda</td>\n",
       "      <td>Nguyen</td>\n",
       "      <td>Female</td>\n",
       "      <td>Alabama</td>\n",
       "      <td>31</td>\n",
       "      <td>2/17/2019</td>\n",
       "      <td>3</td>\n",
       "      <td>married</td>\n",
       "      <td>40423</td>\n",
       "    </tr>\n",
       "    <tr>\n",
       "      <th>3</th>\n",
       "      <td>2254736</td>\n",
       "      <td>1</td>\n",
       "      <td>4</td>\n",
       "      <td>4</td>\n",
       "      <td>7</td>\n",
       "      <td>29.0</td>\n",
       "      <td>196.0</td>\n",
       "      <td>1.0</td>\n",
       "      <td>1.0</td>\n",
       "      <td>both</td>\n",
       "      <td>...</td>\n",
       "      <td>Non-frequent customer</td>\n",
       "      <td>Linda</td>\n",
       "      <td>Nguyen</td>\n",
       "      <td>Female</td>\n",
       "      <td>Alabama</td>\n",
       "      <td>31</td>\n",
       "      <td>2/17/2019</td>\n",
       "      <td>3</td>\n",
       "      <td>married</td>\n",
       "      <td>40423</td>\n",
       "    </tr>\n",
       "    <tr>\n",
       "      <th>4</th>\n",
       "      <td>431534</td>\n",
       "      <td>1</td>\n",
       "      <td>5</td>\n",
       "      <td>4</td>\n",
       "      <td>15</td>\n",
       "      <td>28.0</td>\n",
       "      <td>196.0</td>\n",
       "      <td>1.0</td>\n",
       "      <td>1.0</td>\n",
       "      <td>both</td>\n",
       "      <td>...</td>\n",
       "      <td>Non-frequent customer</td>\n",
       "      <td>Linda</td>\n",
       "      <td>Nguyen</td>\n",
       "      <td>Female</td>\n",
       "      <td>Alabama</td>\n",
       "      <td>31</td>\n",
       "      <td>2/17/2019</td>\n",
       "      <td>3</td>\n",
       "      <td>married</td>\n",
       "      <td>40423</td>\n",
       "    </tr>\n",
       "  </tbody>\n",
       "</table>\n",
       "<p>5 rows × 34 columns</p>\n",
       "</div>"
      ],
      "text/plain": [
       "   order_id  user_id  order_number  orders_day_of_week  order_time_of_day  \\\n",
       "0   2539329        1             1                   2                  8   \n",
       "1   2398795        1             2                   3                  7   \n",
       "2    473747        1             3                   3                 12   \n",
       "3   2254736        1             4                   4                  7   \n",
       "4    431534        1             5                   4                 15   \n",
       "\n",
       "   days_since_prior_order  product_id  add_to_cart_order  reordered _merge  \\\n",
       "0                     NaN       196.0                1.0        0.0   both   \n",
       "1                    15.0       196.0                1.0        1.0   both   \n",
       "2                    21.0       196.0                1.0        1.0   both   \n",
       "3                    29.0       196.0                1.0        1.0   both   \n",
       "4                    28.0       196.0                1.0        1.0   both   \n",
       "\n",
       "   ...   order_frequency_flag  first_name  surname  gender    state age  \\\n",
       "0  ...  Non-frequent customer       Linda   Nguyen  Female  Alabama  31   \n",
       "1  ...  Non-frequent customer       Linda   Nguyen  Female  Alabama  31   \n",
       "2  ...  Non-frequent customer       Linda   Nguyen  Female  Alabama  31   \n",
       "3  ...  Non-frequent customer       Linda   Nguyen  Female  Alabama  31   \n",
       "4  ...  Non-frequent customer       Linda   Nguyen  Female  Alabama  31   \n",
       "\n",
       "  date_joined n_dependants fam_status  income  \n",
       "0   2/17/2019            3    married   40423  \n",
       "1   2/17/2019            3    married   40423  \n",
       "2   2/17/2019            3    married   40423  \n",
       "3   2/17/2019            3    married   40423  \n",
       "4   2/17/2019            3    married   40423  \n",
       "\n",
       "[5 rows x 34 columns]"
      ]
     },
     "execution_count": 5,
     "metadata": {},
     "output_type": "execute_result"
    }
   ],
   "source": [
    "#### Q2. Consider any security implications that might exist for this new data. You’ll need to address any PII data in the data before continuing your analysis.\n",
    "df_orders_products_customer_merged.head()"
   ]
  },
  {
   "cell_type": "markdown",
   "id": "7eb328f0",
   "metadata": {},
   "source": [
    "### PII or Personaly Identifiable Information incluedes Names(first name, last name), Email address, Phone number, Physical address,.."
   ]
  },
  {
   "cell_type": "code",
   "execution_count": 7,
   "id": "ae7c5569",
   "metadata": {},
   "outputs": [],
   "source": [
    "# Addressing PII: names and last names/surnames are sensitive information\n",
    "df_orders_products_customer_merged_ex10 = df_orders_products_customer_merged.drop(columns = ['first_name', 'surname'])\n",
    "\n",
    "# A subset that excludes the sensitive information was created."
   ]
  },
  {
   "cell_type": "code",
   "execution_count": 8,
   "id": "16179b69",
   "metadata": {},
   "outputs": [
    {
     "data": {
      "text/html": [
       "<div>\n",
       "<style scoped>\n",
       "    .dataframe tbody tr th:only-of-type {\n",
       "        vertical-align: middle;\n",
       "    }\n",
       "\n",
       "    .dataframe tbody tr th {\n",
       "        vertical-align: top;\n",
       "    }\n",
       "\n",
       "    .dataframe thead th {\n",
       "        text-align: right;\n",
       "    }\n",
       "</style>\n",
       "<table border=\"1\" class=\"dataframe\">\n",
       "  <thead>\n",
       "    <tr style=\"text-align: right;\">\n",
       "      <th></th>\n",
       "      <th>order_id</th>\n",
       "      <th>user_id</th>\n",
       "      <th>order_number</th>\n",
       "      <th>orders_day_of_week</th>\n",
       "      <th>order_time_of_day</th>\n",
       "      <th>days_since_prior_order</th>\n",
       "      <th>product_id</th>\n",
       "      <th>add_to_cart_order</th>\n",
       "      <th>reordered</th>\n",
       "      <th>_merge</th>\n",
       "      <th>...</th>\n",
       "      <th>spending_flag</th>\n",
       "      <th>median_prior_orders</th>\n",
       "      <th>order_frequency_flag</th>\n",
       "      <th>gender</th>\n",
       "      <th>state</th>\n",
       "      <th>age</th>\n",
       "      <th>date_joined</th>\n",
       "      <th>n_dependants</th>\n",
       "      <th>fam_status</th>\n",
       "      <th>income</th>\n",
       "    </tr>\n",
       "  </thead>\n",
       "  <tbody>\n",
       "    <tr>\n",
       "      <th>0</th>\n",
       "      <td>2539329</td>\n",
       "      <td>1</td>\n",
       "      <td>1</td>\n",
       "      <td>2</td>\n",
       "      <td>8</td>\n",
       "      <td>NaN</td>\n",
       "      <td>196.0</td>\n",
       "      <td>1.0</td>\n",
       "      <td>0.0</td>\n",
       "      <td>both</td>\n",
       "      <td>...</td>\n",
       "      <td>Low spender</td>\n",
       "      <td>20.5</td>\n",
       "      <td>Non-frequent customer</td>\n",
       "      <td>Female</td>\n",
       "      <td>Alabama</td>\n",
       "      <td>31</td>\n",
       "      <td>2/17/2019</td>\n",
       "      <td>3</td>\n",
       "      <td>married</td>\n",
       "      <td>40423</td>\n",
       "    </tr>\n",
       "    <tr>\n",
       "      <th>1</th>\n",
       "      <td>2398795</td>\n",
       "      <td>1</td>\n",
       "      <td>2</td>\n",
       "      <td>3</td>\n",
       "      <td>7</td>\n",
       "      <td>15.0</td>\n",
       "      <td>196.0</td>\n",
       "      <td>1.0</td>\n",
       "      <td>1.0</td>\n",
       "      <td>both</td>\n",
       "      <td>...</td>\n",
       "      <td>Low spender</td>\n",
       "      <td>20.5</td>\n",
       "      <td>Non-frequent customer</td>\n",
       "      <td>Female</td>\n",
       "      <td>Alabama</td>\n",
       "      <td>31</td>\n",
       "      <td>2/17/2019</td>\n",
       "      <td>3</td>\n",
       "      <td>married</td>\n",
       "      <td>40423</td>\n",
       "    </tr>\n",
       "    <tr>\n",
       "      <th>2</th>\n",
       "      <td>473747</td>\n",
       "      <td>1</td>\n",
       "      <td>3</td>\n",
       "      <td>3</td>\n",
       "      <td>12</td>\n",
       "      <td>21.0</td>\n",
       "      <td>196.0</td>\n",
       "      <td>1.0</td>\n",
       "      <td>1.0</td>\n",
       "      <td>both</td>\n",
       "      <td>...</td>\n",
       "      <td>Low spender</td>\n",
       "      <td>20.5</td>\n",
       "      <td>Non-frequent customer</td>\n",
       "      <td>Female</td>\n",
       "      <td>Alabama</td>\n",
       "      <td>31</td>\n",
       "      <td>2/17/2019</td>\n",
       "      <td>3</td>\n",
       "      <td>married</td>\n",
       "      <td>40423</td>\n",
       "    </tr>\n",
       "    <tr>\n",
       "      <th>3</th>\n",
       "      <td>2254736</td>\n",
       "      <td>1</td>\n",
       "      <td>4</td>\n",
       "      <td>4</td>\n",
       "      <td>7</td>\n",
       "      <td>29.0</td>\n",
       "      <td>196.0</td>\n",
       "      <td>1.0</td>\n",
       "      <td>1.0</td>\n",
       "      <td>both</td>\n",
       "      <td>...</td>\n",
       "      <td>Low spender</td>\n",
       "      <td>20.5</td>\n",
       "      <td>Non-frequent customer</td>\n",
       "      <td>Female</td>\n",
       "      <td>Alabama</td>\n",
       "      <td>31</td>\n",
       "      <td>2/17/2019</td>\n",
       "      <td>3</td>\n",
       "      <td>married</td>\n",
       "      <td>40423</td>\n",
       "    </tr>\n",
       "    <tr>\n",
       "      <th>4</th>\n",
       "      <td>431534</td>\n",
       "      <td>1</td>\n",
       "      <td>5</td>\n",
       "      <td>4</td>\n",
       "      <td>15</td>\n",
       "      <td>28.0</td>\n",
       "      <td>196.0</td>\n",
       "      <td>1.0</td>\n",
       "      <td>1.0</td>\n",
       "      <td>both</td>\n",
       "      <td>...</td>\n",
       "      <td>Low spender</td>\n",
       "      <td>20.5</td>\n",
       "      <td>Non-frequent customer</td>\n",
       "      <td>Female</td>\n",
       "      <td>Alabama</td>\n",
       "      <td>31</td>\n",
       "      <td>2/17/2019</td>\n",
       "      <td>3</td>\n",
       "      <td>married</td>\n",
       "      <td>40423</td>\n",
       "    </tr>\n",
       "  </tbody>\n",
       "</table>\n",
       "<p>5 rows × 32 columns</p>\n",
       "</div>"
      ],
      "text/plain": [
       "   order_id  user_id  order_number  orders_day_of_week  order_time_of_day  \\\n",
       "0   2539329        1             1                   2                  8   \n",
       "1   2398795        1             2                   3                  7   \n",
       "2    473747        1             3                   3                 12   \n",
       "3   2254736        1             4                   4                  7   \n",
       "4    431534        1             5                   4                 15   \n",
       "\n",
       "   days_since_prior_order  product_id  add_to_cart_order  reordered _merge  \\\n",
       "0                     NaN       196.0                1.0        0.0   both   \n",
       "1                    15.0       196.0                1.0        1.0   both   \n",
       "2                    21.0       196.0                1.0        1.0   both   \n",
       "3                    29.0       196.0                1.0        1.0   both   \n",
       "4                    28.0       196.0                1.0        1.0   both   \n",
       "\n",
       "   ... spending_flag  median_prior_orders   order_frequency_flag  gender  \\\n",
       "0  ...   Low spender                 20.5  Non-frequent customer  Female   \n",
       "1  ...   Low spender                 20.5  Non-frequent customer  Female   \n",
       "2  ...   Low spender                 20.5  Non-frequent customer  Female   \n",
       "3  ...   Low spender                 20.5  Non-frequent customer  Female   \n",
       "4  ...   Low spender                 20.5  Non-frequent customer  Female   \n",
       "\n",
       "     state age date_joined n_dependants fam_status  income  \n",
       "0  Alabama  31   2/17/2019            3    married   40423  \n",
       "1  Alabama  31   2/17/2019            3    married   40423  \n",
       "2  Alabama  31   2/17/2019            3    married   40423  \n",
       "3  Alabama  31   2/17/2019            3    married   40423  \n",
       "4  Alabama  31   2/17/2019            3    married   40423  \n",
       "\n",
       "[5 rows x 32 columns]"
      ]
     },
     "execution_count": 8,
     "metadata": {},
     "output_type": "execute_result"
    }
   ],
   "source": [
    "# To check that the columns with sensitive informations were droped \n",
    "df_orders_products_customer_merged_ex10.head()"
   ]
  },
  {
   "cell_type": "markdown",
   "id": "7f61c2a7",
   "metadata": {},
   "source": [
    "### Q3. The Instacart officers are interested in comparing customer behavior in different geographic areas. Create a regional segmentation of the data. You’ll need to create a “Region” column based on the “State” column from your customers data set."
   ]
  },
  {
   "cell_type": "markdown",
   "id": "db8f369d",
   "metadata": {},
   "source": [
    "## Creating a regional segmentaion of the data.\n",
    "\n",
    "### 1. Defining the Regions:"
   ]
  },
  {
   "cell_type": "code",
   "execution_count": 9,
   "id": "ffaa7fc1",
   "metadata": {},
   "outputs": [],
   "source": [
    "Northeast = ['Maine',\n",
    "             'New Hampshire', \n",
    "             'Vermont', \n",
    "             'Massachusetts', \n",
    "             'Rhode Island', \n",
    "             'Connecticut', \n",
    "             'New York', 'Pennsylvania', 'New Jersey']"
   ]
  },
  {
   "cell_type": "code",
   "execution_count": 10,
   "id": "1d52d325",
   "metadata": {},
   "outputs": [],
   "source": [
    "Midwest = ['Wisconsin', \n",
    "           'Michigan', \n",
    "           'Illinois', \n",
    "           'Indiana', \n",
    "           'Ohio', \n",
    "           'North Dakota', 'South Dakota', \n",
    "           'Nebraska', 'Kansas', \n",
    "           'Minnesota', 'Iowa', 'Missouri']"
   ]
  },
  {
   "cell_type": "code",
   "execution_count": 11,
   "id": "b08c364d",
   "metadata": {},
   "outputs": [],
   "source": [
    "South = ['Delaware', \n",
    "         'Maryland', \n",
    "         'District of Columbia', \n",
    "         'Virginia', 'West Virginia',\n",
    "         'North Carolina', 'South Carolina', \n",
    "         'Georgia', 'Florida', \n",
    "         'Kentucky', 'Tennessee', \n",
    "         'Mississippi', 'Alabama', \n",
    "         'Oklahoma', 'Texas', \n",
    "         'Arkansas', 'Louisiana']"
   ]
  },
  {
   "cell_type": "code",
   "execution_count": 12,
   "id": "cd4c7e72",
   "metadata": {},
   "outputs": [],
   "source": [
    "West = ['Idaho', 'Montana', \n",
    "        'Wyoming', 'Nevada', \n",
    "        'Utah', 'Colorado', \n",
    "        'Arizona', 'New Mexico', \n",
    "        'Alaska', 'Washington', \n",
    "        'Oregon', 'California', 'Hawaii']"
   ]
  },
  {
   "cell_type": "markdown",
   "id": "999d1e7a",
   "metadata": {},
   "source": [
    "## 2. Creating a \"region\" column:"
   ]
  },
  {
   "cell_type": "code",
   "execution_count": 13,
   "id": "3769764d",
   "metadata": {},
   "outputs": [
    {
     "name": "stderr",
     "output_type": "stream",
     "text": [
      "C:\\Users\\karya\\AppData\\Local\\Temp\\ipykernel_11132\\2230738261.py:1: FutureWarning: Setting an item of incompatible dtype is deprecated and will raise in a future error of pandas. Value 'Northeast' has dtype incompatible with float64, please explicitly cast to a compatible dtype first.\n",
      "  df_orders_products_customer_merged_ex10.loc[df_orders_products_customer_merged_ex10['state'].isin(Northeast), 'region'] = 'Northeast'\n"
     ]
    }
   ],
   "source": [
    "df_orders_products_customer_merged_ex10.loc[df_orders_products_customer_merged_ex10['state'].isin(Northeast), 'region'] = 'Northeast'"
   ]
  },
  {
   "cell_type": "code",
   "execution_count": 14,
   "id": "f537dd12",
   "metadata": {},
   "outputs": [],
   "source": [
    "df_orders_products_customer_merged_ex10.loc[df_orders_products_customer_merged_ex10['state'].isin(Midwest), 'region'] = 'Midwest'"
   ]
  },
  {
   "cell_type": "code",
   "execution_count": 15,
   "id": "1886f9cb",
   "metadata": {},
   "outputs": [],
   "source": [
    "df_orders_products_customer_merged_ex10.loc[df_orders_products_customer_merged_ex10['state'].isin(South), 'region'] = 'South'"
   ]
  },
  {
   "cell_type": "code",
   "execution_count": 16,
   "id": "c42aa3a9",
   "metadata": {},
   "outputs": [],
   "source": [
    "df_orders_products_customer_merged_ex10.loc[df_orders_products_customer_merged_ex10['state'].isin(West), 'region'] = 'West'"
   ]
  },
  {
   "cell_type": "code",
   "execution_count": 17,
   "id": "7ef1ab97",
   "metadata": {},
   "outputs": [
    {
     "data": {
      "text/html": [
       "<div>\n",
       "<style scoped>\n",
       "    .dataframe tbody tr th:only-of-type {\n",
       "        vertical-align: middle;\n",
       "    }\n",
       "\n",
       "    .dataframe tbody tr th {\n",
       "        vertical-align: top;\n",
       "    }\n",
       "\n",
       "    .dataframe thead th {\n",
       "        text-align: right;\n",
       "    }\n",
       "</style>\n",
       "<table border=\"1\" class=\"dataframe\">\n",
       "  <thead>\n",
       "    <tr style=\"text-align: right;\">\n",
       "      <th></th>\n",
       "      <th>order_id</th>\n",
       "      <th>user_id</th>\n",
       "      <th>order_number</th>\n",
       "      <th>orders_day_of_week</th>\n",
       "      <th>order_time_of_day</th>\n",
       "      <th>days_since_prior_order</th>\n",
       "      <th>product_id</th>\n",
       "      <th>add_to_cart_order</th>\n",
       "      <th>reordered</th>\n",
       "      <th>_merge</th>\n",
       "      <th>...</th>\n",
       "      <th>median_prior_orders</th>\n",
       "      <th>order_frequency_flag</th>\n",
       "      <th>gender</th>\n",
       "      <th>state</th>\n",
       "      <th>age</th>\n",
       "      <th>date_joined</th>\n",
       "      <th>n_dependants</th>\n",
       "      <th>fam_status</th>\n",
       "      <th>income</th>\n",
       "      <th>region</th>\n",
       "    </tr>\n",
       "  </thead>\n",
       "  <tbody>\n",
       "    <tr>\n",
       "      <th>0</th>\n",
       "      <td>2539329</td>\n",
       "      <td>1</td>\n",
       "      <td>1</td>\n",
       "      <td>2</td>\n",
       "      <td>8</td>\n",
       "      <td>NaN</td>\n",
       "      <td>196.0</td>\n",
       "      <td>1.0</td>\n",
       "      <td>0.0</td>\n",
       "      <td>both</td>\n",
       "      <td>...</td>\n",
       "      <td>20.5</td>\n",
       "      <td>Non-frequent customer</td>\n",
       "      <td>Female</td>\n",
       "      <td>Alabama</td>\n",
       "      <td>31</td>\n",
       "      <td>2/17/2019</td>\n",
       "      <td>3</td>\n",
       "      <td>married</td>\n",
       "      <td>40423</td>\n",
       "      <td>South</td>\n",
       "    </tr>\n",
       "    <tr>\n",
       "      <th>1</th>\n",
       "      <td>2398795</td>\n",
       "      <td>1</td>\n",
       "      <td>2</td>\n",
       "      <td>3</td>\n",
       "      <td>7</td>\n",
       "      <td>15.0</td>\n",
       "      <td>196.0</td>\n",
       "      <td>1.0</td>\n",
       "      <td>1.0</td>\n",
       "      <td>both</td>\n",
       "      <td>...</td>\n",
       "      <td>20.5</td>\n",
       "      <td>Non-frequent customer</td>\n",
       "      <td>Female</td>\n",
       "      <td>Alabama</td>\n",
       "      <td>31</td>\n",
       "      <td>2/17/2019</td>\n",
       "      <td>3</td>\n",
       "      <td>married</td>\n",
       "      <td>40423</td>\n",
       "      <td>South</td>\n",
       "    </tr>\n",
       "    <tr>\n",
       "      <th>2</th>\n",
       "      <td>473747</td>\n",
       "      <td>1</td>\n",
       "      <td>3</td>\n",
       "      <td>3</td>\n",
       "      <td>12</td>\n",
       "      <td>21.0</td>\n",
       "      <td>196.0</td>\n",
       "      <td>1.0</td>\n",
       "      <td>1.0</td>\n",
       "      <td>both</td>\n",
       "      <td>...</td>\n",
       "      <td>20.5</td>\n",
       "      <td>Non-frequent customer</td>\n",
       "      <td>Female</td>\n",
       "      <td>Alabama</td>\n",
       "      <td>31</td>\n",
       "      <td>2/17/2019</td>\n",
       "      <td>3</td>\n",
       "      <td>married</td>\n",
       "      <td>40423</td>\n",
       "      <td>South</td>\n",
       "    </tr>\n",
       "    <tr>\n",
       "      <th>3</th>\n",
       "      <td>2254736</td>\n",
       "      <td>1</td>\n",
       "      <td>4</td>\n",
       "      <td>4</td>\n",
       "      <td>7</td>\n",
       "      <td>29.0</td>\n",
       "      <td>196.0</td>\n",
       "      <td>1.0</td>\n",
       "      <td>1.0</td>\n",
       "      <td>both</td>\n",
       "      <td>...</td>\n",
       "      <td>20.5</td>\n",
       "      <td>Non-frequent customer</td>\n",
       "      <td>Female</td>\n",
       "      <td>Alabama</td>\n",
       "      <td>31</td>\n",
       "      <td>2/17/2019</td>\n",
       "      <td>3</td>\n",
       "      <td>married</td>\n",
       "      <td>40423</td>\n",
       "      <td>South</td>\n",
       "    </tr>\n",
       "    <tr>\n",
       "      <th>4</th>\n",
       "      <td>431534</td>\n",
       "      <td>1</td>\n",
       "      <td>5</td>\n",
       "      <td>4</td>\n",
       "      <td>15</td>\n",
       "      <td>28.0</td>\n",
       "      <td>196.0</td>\n",
       "      <td>1.0</td>\n",
       "      <td>1.0</td>\n",
       "      <td>both</td>\n",
       "      <td>...</td>\n",
       "      <td>20.5</td>\n",
       "      <td>Non-frequent customer</td>\n",
       "      <td>Female</td>\n",
       "      <td>Alabama</td>\n",
       "      <td>31</td>\n",
       "      <td>2/17/2019</td>\n",
       "      <td>3</td>\n",
       "      <td>married</td>\n",
       "      <td>40423</td>\n",
       "      <td>South</td>\n",
       "    </tr>\n",
       "  </tbody>\n",
       "</table>\n",
       "<p>5 rows × 33 columns</p>\n",
       "</div>"
      ],
      "text/plain": [
       "   order_id  user_id  order_number  orders_day_of_week  order_time_of_day  \\\n",
       "0   2539329        1             1                   2                  8   \n",
       "1   2398795        1             2                   3                  7   \n",
       "2    473747        1             3                   3                 12   \n",
       "3   2254736        1             4                   4                  7   \n",
       "4    431534        1             5                   4                 15   \n",
       "\n",
       "   days_since_prior_order  product_id  add_to_cart_order  reordered _merge  \\\n",
       "0                     NaN       196.0                1.0        0.0   both   \n",
       "1                    15.0       196.0                1.0        1.0   both   \n",
       "2                    21.0       196.0                1.0        1.0   both   \n",
       "3                    29.0       196.0                1.0        1.0   both   \n",
       "4                    28.0       196.0                1.0        1.0   both   \n",
       "\n",
       "   ... median_prior_orders   order_frequency_flag  gender    state age  \\\n",
       "0  ...                20.5  Non-frequent customer  Female  Alabama  31   \n",
       "1  ...                20.5  Non-frequent customer  Female  Alabama  31   \n",
       "2  ...                20.5  Non-frequent customer  Female  Alabama  31   \n",
       "3  ...                20.5  Non-frequent customer  Female  Alabama  31   \n",
       "4  ...                20.5  Non-frequent customer  Female  Alabama  31   \n",
       "\n",
       "  date_joined n_dependants fam_status income  region  \n",
       "0   2/17/2019            3    married  40423   South  \n",
       "1   2/17/2019            3    married  40423   South  \n",
       "2   2/17/2019            3    married  40423   South  \n",
       "3   2/17/2019            3    married  40423   South  \n",
       "4   2/17/2019            3    married  40423   South  \n",
       "\n",
       "[5 rows x 33 columns]"
      ]
     },
     "execution_count": 17,
     "metadata": {},
     "output_type": "execute_result"
    }
   ],
   "source": [
    "# Check for the \"region\" column:\n",
    "\n",
    "df_orders_products_customer_merged_ex10.head()"
   ]
  },
  {
   "cell_type": "code",
   "execution_count": 18,
   "id": "4a674931",
   "metadata": {},
   "outputs": [
    {
     "data": {
      "text/plain": [
       "region\n",
       "South        10791885\n",
       "West          8292913\n",
       "Midwest       7597325\n",
       "Northeast     5722736\n",
       "Name: count, dtype: int64"
      ]
     },
     "execution_count": 18,
     "metadata": {},
     "output_type": "execute_result"
    }
   ],
   "source": [
    "# Checking the value count for the 'region' column:\n",
    "\n",
    "df_orders_products_customer_merged_ex10['region'].value_counts(dropna = False) "
   ]
  },
  {
   "cell_type": "markdown",
   "id": "3b893278",
   "metadata": {},
   "source": [
    "### 3.2. Determine whether there’s a difference in spending habits between the different U.S. regions. (Hint: You can do this by crossing the variable you just created with the spending flag.)"
   ]
  },
  {
   "cell_type": "code",
   "execution_count": 19,
   "id": "032237f6",
   "metadata": {},
   "outputs": [
    {
     "data": {
      "text/plain": [
       "Index(['order_id', 'user_id', 'order_number', 'orders_day_of_week',\n",
       "       'order_time_of_day', 'days_since_prior_order', 'product_id',\n",
       "       'add_to_cart_order', 'reordered', '_merge', 'product_name', 'aisle_id',\n",
       "       'department_id', 'prices', '_merged2', 'price_range_loc', 'Busiest day',\n",
       "       'Busiest days', 'busiest_period_of_day', 'max_order', 'loyalty_flag',\n",
       "       'average_price', 'spending_flag', 'median_prior_orders',\n",
       "       'order_frequency_flag', 'gender', 'state', 'age', 'date_joined',\n",
       "       'n_dependants', 'fam_status', 'income', 'region'],\n",
       "      dtype='object')"
      ]
     },
     "execution_count": 19,
     "metadata": {},
     "output_type": "execute_result"
    }
   ],
   "source": [
    "df_orders_products_customer_merged_ex10.columns"
   ]
  },
  {
   "cell_type": "code",
   "execution_count": 20,
   "id": "ecf980c0",
   "metadata": {},
   "outputs": [],
   "source": [
    "# Creating the 'spending_flag'\n",
    "\n",
    "df_orders_products_customer_merged_ex10.loc[df_orders_products_customer_merged_ex10['average_price'] < 10, 'spending_flag'] = 'low spender'"
   ]
  },
  {
   "cell_type": "code",
   "execution_count": 21,
   "id": "ea94ce53",
   "metadata": {},
   "outputs": [],
   "source": [
    "df_orders_products_customer_merged_ex10.loc[df_orders_products_customer_merged_ex10['average_price'] >= 10, 'spending_flag'] = 'high spender'"
   ]
  },
  {
   "cell_type": "code",
   "execution_count": 22,
   "id": "2befd609",
   "metadata": {},
   "outputs": [
    {
     "data": {
      "text/html": [
       "<div>\n",
       "<style scoped>\n",
       "    .dataframe tbody tr th:only-of-type {\n",
       "        vertical-align: middle;\n",
       "    }\n",
       "\n",
       "    .dataframe tbody tr th {\n",
       "        vertical-align: top;\n",
       "    }\n",
       "\n",
       "    .dataframe thead th {\n",
       "        text-align: right;\n",
       "    }\n",
       "</style>\n",
       "<table border=\"1\" class=\"dataframe\">\n",
       "  <thead>\n",
       "    <tr style=\"text-align: right;\">\n",
       "      <th></th>\n",
       "      <th>average_price</th>\n",
       "      <th>region</th>\n",
       "      <th>spending_flag</th>\n",
       "    </tr>\n",
       "  </thead>\n",
       "  <tbody>\n",
       "    <tr>\n",
       "      <th>0</th>\n",
       "      <td>6.367797</td>\n",
       "      <td>South</td>\n",
       "      <td>low spender</td>\n",
       "    </tr>\n",
       "    <tr>\n",
       "      <th>1</th>\n",
       "      <td>6.367797</td>\n",
       "      <td>South</td>\n",
       "      <td>low spender</td>\n",
       "    </tr>\n",
       "    <tr>\n",
       "      <th>2</th>\n",
       "      <td>6.367797</td>\n",
       "      <td>South</td>\n",
       "      <td>low spender</td>\n",
       "    </tr>\n",
       "    <tr>\n",
       "      <th>3</th>\n",
       "      <td>6.367797</td>\n",
       "      <td>South</td>\n",
       "      <td>low spender</td>\n",
       "    </tr>\n",
       "    <tr>\n",
       "      <th>4</th>\n",
       "      <td>6.367797</td>\n",
       "      <td>South</td>\n",
       "      <td>low spender</td>\n",
       "    </tr>\n",
       "    <tr>\n",
       "      <th>...</th>\n",
       "      <td>...</td>\n",
       "      <td>...</td>\n",
       "      <td>...</td>\n",
       "    </tr>\n",
       "    <tr>\n",
       "      <th>32404854</th>\n",
       "      <td>10.700000</td>\n",
       "      <td>West</td>\n",
       "      <td>high spender</td>\n",
       "    </tr>\n",
       "    <tr>\n",
       "      <th>32404855</th>\n",
       "      <td>8.100000</td>\n",
       "      <td>South</td>\n",
       "      <td>low spender</td>\n",
       "    </tr>\n",
       "    <tr>\n",
       "      <th>32404856</th>\n",
       "      <td>8.100000</td>\n",
       "      <td>South</td>\n",
       "      <td>low spender</td>\n",
       "    </tr>\n",
       "    <tr>\n",
       "      <th>32404857</th>\n",
       "      <td>8.100000</td>\n",
       "      <td>South</td>\n",
       "      <td>low spender</td>\n",
       "    </tr>\n",
       "    <tr>\n",
       "      <th>32404858</th>\n",
       "      <td>8.100000</td>\n",
       "      <td>South</td>\n",
       "      <td>low spender</td>\n",
       "    </tr>\n",
       "  </tbody>\n",
       "</table>\n",
       "<p>32404859 rows × 3 columns</p>\n",
       "</div>"
      ],
      "text/plain": [
       "          average_price region spending_flag\n",
       "0              6.367797  South   low spender\n",
       "1              6.367797  South   low spender\n",
       "2              6.367797  South   low spender\n",
       "3              6.367797  South   low spender\n",
       "4              6.367797  South   low spender\n",
       "...                 ...    ...           ...\n",
       "32404854      10.700000   West  high spender\n",
       "32404855       8.100000  South   low spender\n",
       "32404856       8.100000  South   low spender\n",
       "32404857       8.100000  South   low spender\n",
       "32404858       8.100000  South   low spender\n",
       "\n",
       "[32404859 rows x 3 columns]"
      ]
     },
     "execution_count": 22,
     "metadata": {},
     "output_type": "execute_result"
    }
   ],
   "source": [
    "# To check:\n",
    "df_orders_products_customer_merged_ex10[['average_price', 'region', 'spending_flag']]"
   ]
  },
  {
   "cell_type": "code",
   "execution_count": 23,
   "id": "5ad49165",
   "metadata": {},
   "outputs": [
    {
     "data": {
      "text/plain": [
       "Index(['order_id', 'user_id', 'order_number', 'orders_day_of_week',\n",
       "       'order_time_of_day', 'days_since_prior_order', 'product_id',\n",
       "       'add_to_cart_order', 'reordered', '_merge', 'product_name', 'aisle_id',\n",
       "       'department_id', 'prices', '_merged2', 'price_range_loc', 'Busiest day',\n",
       "       'Busiest days', 'busiest_period_of_day', 'max_order', 'loyalty_flag',\n",
       "       'average_price', 'spending_flag', 'median_prior_orders',\n",
       "       'order_frequency_flag', 'gender', 'state', 'age', 'date_joined',\n",
       "       'n_dependants', 'fam_status', 'income', 'region'],\n",
       "      dtype='object')"
      ]
     },
     "execution_count": 23,
     "metadata": {},
     "output_type": "execute_result"
    }
   ],
   "source": [
    "df_orders_products_customer_merged_ex10.columns"
   ]
  },
  {
   "cell_type": "markdown",
   "id": "5c1c280b",
   "metadata": {},
   "source": [
    "### Determine whether there’s a difference"
   ]
  },
  {
   "cell_type": "code",
   "execution_count": 24,
   "id": "cef926bd",
   "metadata": {},
   "outputs": [],
   "source": [
    "df_crosstab = pd.crosstab(df_orders_products_customer_merged_ex10['region'], df_orders_products_customer_merged_ex10['spending_flag'], dropna = False)"
   ]
  },
  {
   "cell_type": "code",
   "execution_count": 25,
   "id": "52a7bf8f",
   "metadata": {},
   "outputs": [],
   "source": [
    "df_crosstab.to_clipboard()\n",
    "# Output Results\n",
    "\n",
    "# region\thigh spender\tlow spender\n",
    "# Midwest\t155975\t7441350\n",
    "# Northeast\t108225\t5614511\n",
    "# South\t209691\t10582194\n",
    "# West\t160354\t8132559\n"
   ]
  },
  {
   "cell_type": "markdown",
   "id": "d82b551a",
   "metadata": {},
   "source": [
    "### The results shows that the South region has the highest percentage of the high spender populations (33%) followed by West (25%), and Midwest regions(25%) and Northeast region has the lowest percentage of the high spender population (17%). Among the spenders , only 2% of them are higher spender the remaining 98% are all low spenders in all regions."
   ]
  },
  {
   "cell_type": "markdown",
   "id": "cd29f9ed",
   "metadata": {},
   "source": [
    "### Q4. Create an exclusion flag for low-activity customers (customers with less than 5 orders) and exclude them from the data. Make sure you export this sample."
   ]
  },
  {
   "cell_type": "code",
   "execution_count": 34,
   "id": "2c1dc8a7",
   "metadata": {
    "scrolled": true
   },
   "outputs": [
    {
     "data": {
      "text/plain": [
       "order_number\n",
       "1     2076096\n",
       "3     2048868\n",
       "2     2046409\n",
       "4     1818609\n",
       "5     1626901\n",
       "       ...   \n",
       "95      14516\n",
       "96      13737\n",
       "97      13356\n",
       "98      12851\n",
       "99      12421\n",
       "Name: count, Length: 99, dtype: int64"
      ]
     },
     "execution_count": 34,
     "metadata": {},
     "output_type": "execute_result"
    }
   ],
   "source": [
    "df_orders_products_customer_merged_ex10['order_number'].value_counts(dropna = False)"
   ]
  },
  {
   "cell_type": "code",
   "execution_count": 35,
   "id": "efd52617",
   "metadata": {},
   "outputs": [
    {
     "data": {
      "text/plain": [
       "(32404859, 34)"
      ]
     },
     "execution_count": 35,
     "metadata": {},
     "output_type": "execute_result"
    }
   ],
   "source": [
    "df_orders_products_customer_merged_ex10.shape"
   ]
  },
  {
   "cell_type": "code",
   "execution_count": 36,
   "id": "ef85df66",
   "metadata": {},
   "outputs": [],
   "source": [
    "# Creating Flag for low activity customers:\n",
    "\n",
    "df_orders_products_customer_merged_ex10.loc[df_orders_products_customer_merged_ex10 ['order_number'] < 5, 'customer_activity_exclusion_flag'] = 'low activity'"
   ]
  },
  {
   "cell_type": "code",
   "execution_count": 37,
   "id": "30d0943d",
   "metadata": {},
   "outputs": [],
   "source": [
    "# Creating Flag for high activity customers:\n",
    "\n",
    "df_orders_products_customer_merged_ex10.loc[df_orders_products_customer_merged_ex10 ['order_number'] >= 5, 'customer_activity_exclusion_flag'] = 'high activity'"
   ]
  },
  {
   "cell_type": "code",
   "execution_count": 38,
   "id": "17ef6c44",
   "metadata": {},
   "outputs": [
    {
     "data": {
      "text/html": [
       "<div>\n",
       "<style scoped>\n",
       "    .dataframe tbody tr th:only-of-type {\n",
       "        vertical-align: middle;\n",
       "    }\n",
       "\n",
       "    .dataframe tbody tr th {\n",
       "        vertical-align: top;\n",
       "    }\n",
       "\n",
       "    .dataframe thead th {\n",
       "        text-align: right;\n",
       "    }\n",
       "</style>\n",
       "<table border=\"1\" class=\"dataframe\">\n",
       "  <thead>\n",
       "    <tr style=\"text-align: right;\">\n",
       "      <th></th>\n",
       "      <th>order_id</th>\n",
       "      <th>user_id</th>\n",
       "      <th>order_number</th>\n",
       "      <th>orders_day_of_week</th>\n",
       "      <th>order_time_of_day</th>\n",
       "      <th>days_since_prior_order</th>\n",
       "      <th>product_id</th>\n",
       "      <th>add_to_cart_order</th>\n",
       "      <th>reordered</th>\n",
       "      <th>_merge</th>\n",
       "      <th>...</th>\n",
       "      <th>order_frequency_flag</th>\n",
       "      <th>gender</th>\n",
       "      <th>state</th>\n",
       "      <th>age</th>\n",
       "      <th>date_joined</th>\n",
       "      <th>n_dependants</th>\n",
       "      <th>fam_status</th>\n",
       "      <th>income</th>\n",
       "      <th>region</th>\n",
       "      <th>customer_activity_exclusion_flag</th>\n",
       "    </tr>\n",
       "  </thead>\n",
       "  <tbody>\n",
       "    <tr>\n",
       "      <th>0</th>\n",
       "      <td>2539329</td>\n",
       "      <td>1</td>\n",
       "      <td>1</td>\n",
       "      <td>2</td>\n",
       "      <td>8</td>\n",
       "      <td>NaN</td>\n",
       "      <td>196.0</td>\n",
       "      <td>1.0</td>\n",
       "      <td>0.0</td>\n",
       "      <td>both</td>\n",
       "      <td>...</td>\n",
       "      <td>Non-frequent customer</td>\n",
       "      <td>Female</td>\n",
       "      <td>Alabama</td>\n",
       "      <td>31</td>\n",
       "      <td>2/17/2019</td>\n",
       "      <td>3</td>\n",
       "      <td>married</td>\n",
       "      <td>40423</td>\n",
       "      <td>South</td>\n",
       "      <td>low activity</td>\n",
       "    </tr>\n",
       "    <tr>\n",
       "      <th>1</th>\n",
       "      <td>2398795</td>\n",
       "      <td>1</td>\n",
       "      <td>2</td>\n",
       "      <td>3</td>\n",
       "      <td>7</td>\n",
       "      <td>15.0</td>\n",
       "      <td>196.0</td>\n",
       "      <td>1.0</td>\n",
       "      <td>1.0</td>\n",
       "      <td>both</td>\n",
       "      <td>...</td>\n",
       "      <td>Non-frequent customer</td>\n",
       "      <td>Female</td>\n",
       "      <td>Alabama</td>\n",
       "      <td>31</td>\n",
       "      <td>2/17/2019</td>\n",
       "      <td>3</td>\n",
       "      <td>married</td>\n",
       "      <td>40423</td>\n",
       "      <td>South</td>\n",
       "      <td>low activity</td>\n",
       "    </tr>\n",
       "    <tr>\n",
       "      <th>2</th>\n",
       "      <td>473747</td>\n",
       "      <td>1</td>\n",
       "      <td>3</td>\n",
       "      <td>3</td>\n",
       "      <td>12</td>\n",
       "      <td>21.0</td>\n",
       "      <td>196.0</td>\n",
       "      <td>1.0</td>\n",
       "      <td>1.0</td>\n",
       "      <td>both</td>\n",
       "      <td>...</td>\n",
       "      <td>Non-frequent customer</td>\n",
       "      <td>Female</td>\n",
       "      <td>Alabama</td>\n",
       "      <td>31</td>\n",
       "      <td>2/17/2019</td>\n",
       "      <td>3</td>\n",
       "      <td>married</td>\n",
       "      <td>40423</td>\n",
       "      <td>South</td>\n",
       "      <td>low activity</td>\n",
       "    </tr>\n",
       "    <tr>\n",
       "      <th>3</th>\n",
       "      <td>2254736</td>\n",
       "      <td>1</td>\n",
       "      <td>4</td>\n",
       "      <td>4</td>\n",
       "      <td>7</td>\n",
       "      <td>29.0</td>\n",
       "      <td>196.0</td>\n",
       "      <td>1.0</td>\n",
       "      <td>1.0</td>\n",
       "      <td>both</td>\n",
       "      <td>...</td>\n",
       "      <td>Non-frequent customer</td>\n",
       "      <td>Female</td>\n",
       "      <td>Alabama</td>\n",
       "      <td>31</td>\n",
       "      <td>2/17/2019</td>\n",
       "      <td>3</td>\n",
       "      <td>married</td>\n",
       "      <td>40423</td>\n",
       "      <td>South</td>\n",
       "      <td>low activity</td>\n",
       "    </tr>\n",
       "    <tr>\n",
       "      <th>4</th>\n",
       "      <td>431534</td>\n",
       "      <td>1</td>\n",
       "      <td>5</td>\n",
       "      <td>4</td>\n",
       "      <td>15</td>\n",
       "      <td>28.0</td>\n",
       "      <td>196.0</td>\n",
       "      <td>1.0</td>\n",
       "      <td>1.0</td>\n",
       "      <td>both</td>\n",
       "      <td>...</td>\n",
       "      <td>Non-frequent customer</td>\n",
       "      <td>Female</td>\n",
       "      <td>Alabama</td>\n",
       "      <td>31</td>\n",
       "      <td>2/17/2019</td>\n",
       "      <td>3</td>\n",
       "      <td>married</td>\n",
       "      <td>40423</td>\n",
       "      <td>South</td>\n",
       "      <td>high activity</td>\n",
       "    </tr>\n",
       "  </tbody>\n",
       "</table>\n",
       "<p>5 rows × 34 columns</p>\n",
       "</div>"
      ],
      "text/plain": [
       "   order_id  user_id  order_number  orders_day_of_week  order_time_of_day  \\\n",
       "0   2539329        1             1                   2                  8   \n",
       "1   2398795        1             2                   3                  7   \n",
       "2    473747        1             3                   3                 12   \n",
       "3   2254736        1             4                   4                  7   \n",
       "4    431534        1             5                   4                 15   \n",
       "\n",
       "   days_since_prior_order  product_id  add_to_cart_order  reordered _merge  \\\n",
       "0                     NaN       196.0                1.0        0.0   both   \n",
       "1                    15.0       196.0                1.0        1.0   both   \n",
       "2                    21.0       196.0                1.0        1.0   both   \n",
       "3                    29.0       196.0                1.0        1.0   both   \n",
       "4                    28.0       196.0                1.0        1.0   both   \n",
       "\n",
       "   ...   order_frequency_flag  gender    state  age date_joined n_dependants  \\\n",
       "0  ...  Non-frequent customer  Female  Alabama   31   2/17/2019            3   \n",
       "1  ...  Non-frequent customer  Female  Alabama   31   2/17/2019            3   \n",
       "2  ...  Non-frequent customer  Female  Alabama   31   2/17/2019            3   \n",
       "3  ...  Non-frequent customer  Female  Alabama   31   2/17/2019            3   \n",
       "4  ...  Non-frequent customer  Female  Alabama   31   2/17/2019            3   \n",
       "\n",
       "  fam_status income region  customer_activity_exclusion_flag  \n",
       "0    married  40423  South                      low activity  \n",
       "1    married  40423  South                      low activity  \n",
       "2    married  40423  South                      low activity  \n",
       "3    married  40423  South                      low activity  \n",
       "4    married  40423  South                     high activity  \n",
       "\n",
       "[5 rows x 34 columns]"
      ]
     },
     "execution_count": 38,
     "metadata": {},
     "output_type": "execute_result"
    }
   ],
   "source": [
    "# Checking the out put:\n",
    "df_orders_products_customer_merged_ex10.head()"
   ]
  },
  {
   "cell_type": "code",
   "execution_count": 39,
   "id": "7237fad2",
   "metadata": {},
   "outputs": [
    {
     "data": {
      "text/plain": [
       "customer_activity_exclusion_flag\n",
       "high activity    24414877\n",
       "low activity      7989982\n",
       "Name: count, dtype: int64"
      ]
     },
     "execution_count": 39,
     "metadata": {},
     "output_type": "execute_result"
    }
   ],
   "source": [
    "df_orders_products_customer_merged_ex10['customer_activity_exclusion_flag'].value_counts(dropna=False)"
   ]
  },
  {
   "cell_type": "code",
   "execution_count": 40,
   "id": "cfb9aea7",
   "metadata": {
    "scrolled": true
   },
   "outputs": [
    {
     "data": {
      "text/plain": [
       "Index(['order_id', 'user_id', 'order_number', 'orders_day_of_week',\n",
       "       'order_time_of_day', 'days_since_prior_order', 'product_id',\n",
       "       'add_to_cart_order', 'reordered', '_merge', 'product_name', 'aisle_id',\n",
       "       'department_id', 'prices', '_merged2', 'price_range_loc', 'Busiest day',\n",
       "       'Busiest days', 'busiest_period_of_day', 'max_order', 'loyalty_flag',\n",
       "       'average_price', 'spending_flag', 'median_prior_orders',\n",
       "       'order_frequency_flag', 'gender', 'state', 'age', 'date_joined',\n",
       "       'n_dependants', 'fam_status', 'income', 'region',\n",
       "       'customer_activity_exclusion_flag'],\n",
       "      dtype='object')"
      ]
     },
     "execution_count": 40,
     "metadata": {},
     "output_type": "execute_result"
    }
   ],
   "source": [
    "df_orders_products_customer_merged_ex10.columns"
   ]
  },
  {
   "cell_type": "code",
   "execution_count": 41,
   "id": "74c4732b",
   "metadata": {},
   "outputs": [
    {
     "data": {
      "text/html": [
       "<div>\n",
       "<style scoped>\n",
       "    .dataframe tbody tr th:only-of-type {\n",
       "        vertical-align: middle;\n",
       "    }\n",
       "\n",
       "    .dataframe tbody tr th {\n",
       "        vertical-align: top;\n",
       "    }\n",
       "\n",
       "    .dataframe thead th {\n",
       "        text-align: right;\n",
       "    }\n",
       "</style>\n",
       "<table border=\"1\" class=\"dataframe\">\n",
       "  <thead>\n",
       "    <tr style=\"text-align: right;\">\n",
       "      <th></th>\n",
       "      <th>order_id</th>\n",
       "      <th>user_id</th>\n",
       "      <th>order_number</th>\n",
       "      <th>orders_day_of_week</th>\n",
       "      <th>order_time_of_day</th>\n",
       "      <th>days_since_prior_order</th>\n",
       "      <th>product_id</th>\n",
       "      <th>add_to_cart_order</th>\n",
       "      <th>reordered</th>\n",
       "      <th>_merge</th>\n",
       "      <th>...</th>\n",
       "      <th>order_frequency_flag</th>\n",
       "      <th>gender</th>\n",
       "      <th>state</th>\n",
       "      <th>age</th>\n",
       "      <th>date_joined</th>\n",
       "      <th>n_dependants</th>\n",
       "      <th>fam_status</th>\n",
       "      <th>income</th>\n",
       "      <th>region</th>\n",
       "      <th>customer_activity_exclusion_flag</th>\n",
       "    </tr>\n",
       "  </thead>\n",
       "  <tbody>\n",
       "    <tr>\n",
       "      <th>0</th>\n",
       "      <td>2539329</td>\n",
       "      <td>1</td>\n",
       "      <td>1</td>\n",
       "      <td>2</td>\n",
       "      <td>8</td>\n",
       "      <td>NaN</td>\n",
       "      <td>196.0</td>\n",
       "      <td>1.0</td>\n",
       "      <td>0.0</td>\n",
       "      <td>both</td>\n",
       "      <td>...</td>\n",
       "      <td>Non-frequent customer</td>\n",
       "      <td>Female</td>\n",
       "      <td>Alabama</td>\n",
       "      <td>31</td>\n",
       "      <td>2/17/2019</td>\n",
       "      <td>3</td>\n",
       "      <td>married</td>\n",
       "      <td>40423</td>\n",
       "      <td>South</td>\n",
       "      <td>low activity</td>\n",
       "    </tr>\n",
       "    <tr>\n",
       "      <th>1</th>\n",
       "      <td>2398795</td>\n",
       "      <td>1</td>\n",
       "      <td>2</td>\n",
       "      <td>3</td>\n",
       "      <td>7</td>\n",
       "      <td>15.0</td>\n",
       "      <td>196.0</td>\n",
       "      <td>1.0</td>\n",
       "      <td>1.0</td>\n",
       "      <td>both</td>\n",
       "      <td>...</td>\n",
       "      <td>Non-frequent customer</td>\n",
       "      <td>Female</td>\n",
       "      <td>Alabama</td>\n",
       "      <td>31</td>\n",
       "      <td>2/17/2019</td>\n",
       "      <td>3</td>\n",
       "      <td>married</td>\n",
       "      <td>40423</td>\n",
       "      <td>South</td>\n",
       "      <td>low activity</td>\n",
       "    </tr>\n",
       "    <tr>\n",
       "      <th>2</th>\n",
       "      <td>473747</td>\n",
       "      <td>1</td>\n",
       "      <td>3</td>\n",
       "      <td>3</td>\n",
       "      <td>12</td>\n",
       "      <td>21.0</td>\n",
       "      <td>196.0</td>\n",
       "      <td>1.0</td>\n",
       "      <td>1.0</td>\n",
       "      <td>both</td>\n",
       "      <td>...</td>\n",
       "      <td>Non-frequent customer</td>\n",
       "      <td>Female</td>\n",
       "      <td>Alabama</td>\n",
       "      <td>31</td>\n",
       "      <td>2/17/2019</td>\n",
       "      <td>3</td>\n",
       "      <td>married</td>\n",
       "      <td>40423</td>\n",
       "      <td>South</td>\n",
       "      <td>low activity</td>\n",
       "    </tr>\n",
       "    <tr>\n",
       "      <th>3</th>\n",
       "      <td>2254736</td>\n",
       "      <td>1</td>\n",
       "      <td>4</td>\n",
       "      <td>4</td>\n",
       "      <td>7</td>\n",
       "      <td>29.0</td>\n",
       "      <td>196.0</td>\n",
       "      <td>1.0</td>\n",
       "      <td>1.0</td>\n",
       "      <td>both</td>\n",
       "      <td>...</td>\n",
       "      <td>Non-frequent customer</td>\n",
       "      <td>Female</td>\n",
       "      <td>Alabama</td>\n",
       "      <td>31</td>\n",
       "      <td>2/17/2019</td>\n",
       "      <td>3</td>\n",
       "      <td>married</td>\n",
       "      <td>40423</td>\n",
       "      <td>South</td>\n",
       "      <td>low activity</td>\n",
       "    </tr>\n",
       "    <tr>\n",
       "      <th>4</th>\n",
       "      <td>431534</td>\n",
       "      <td>1</td>\n",
       "      <td>5</td>\n",
       "      <td>4</td>\n",
       "      <td>15</td>\n",
       "      <td>28.0</td>\n",
       "      <td>196.0</td>\n",
       "      <td>1.0</td>\n",
       "      <td>1.0</td>\n",
       "      <td>both</td>\n",
       "      <td>...</td>\n",
       "      <td>Non-frequent customer</td>\n",
       "      <td>Female</td>\n",
       "      <td>Alabama</td>\n",
       "      <td>31</td>\n",
       "      <td>2/17/2019</td>\n",
       "      <td>3</td>\n",
       "      <td>married</td>\n",
       "      <td>40423</td>\n",
       "      <td>South</td>\n",
       "      <td>high activity</td>\n",
       "    </tr>\n",
       "  </tbody>\n",
       "</table>\n",
       "<p>5 rows × 34 columns</p>\n",
       "</div>"
      ],
      "text/plain": [
       "   order_id  user_id  order_number  orders_day_of_week  order_time_of_day  \\\n",
       "0   2539329        1             1                   2                  8   \n",
       "1   2398795        1             2                   3                  7   \n",
       "2    473747        1             3                   3                 12   \n",
       "3   2254736        1             4                   4                  7   \n",
       "4    431534        1             5                   4                 15   \n",
       "\n",
       "   days_since_prior_order  product_id  add_to_cart_order  reordered _merge  \\\n",
       "0                     NaN       196.0                1.0        0.0   both   \n",
       "1                    15.0       196.0                1.0        1.0   both   \n",
       "2                    21.0       196.0                1.0        1.0   both   \n",
       "3                    29.0       196.0                1.0        1.0   both   \n",
       "4                    28.0       196.0                1.0        1.0   both   \n",
       "\n",
       "   ...   order_frequency_flag  gender    state  age date_joined n_dependants  \\\n",
       "0  ...  Non-frequent customer  Female  Alabama   31   2/17/2019            3   \n",
       "1  ...  Non-frequent customer  Female  Alabama   31   2/17/2019            3   \n",
       "2  ...  Non-frequent customer  Female  Alabama   31   2/17/2019            3   \n",
       "3  ...  Non-frequent customer  Female  Alabama   31   2/17/2019            3   \n",
       "4  ...  Non-frequent customer  Female  Alabama   31   2/17/2019            3   \n",
       "\n",
       "  fam_status income region  customer_activity_exclusion_flag  \n",
       "0    married  40423  South                      low activity  \n",
       "1    married  40423  South                      low activity  \n",
       "2    married  40423  South                      low activity  \n",
       "3    married  40423  South                      low activity  \n",
       "4    married  40423  South                     high activity  \n",
       "\n",
       "[5 rows x 34 columns]"
      ]
     },
     "execution_count": 41,
     "metadata": {},
     "output_type": "execute_result"
    }
   ],
   "source": [
    "df_orders_products_customer_merged_ex10.head()"
   ]
  },
  {
   "cell_type": "code",
   "execution_count": 42,
   "id": "bd5f6f7c",
   "metadata": {},
   "outputs": [],
   "source": [
    "# Excluding low activity customers:\n",
    "\n",
    "high_activity_customer_data = df_orders_products_customer_merged_ex10.loc[df_orders_products_customer_merged_ex10 ['order_number'] >= 5, 'customer_activity_exclusion_flag']"
   ]
  },
  {
   "cell_type": "code",
   "execution_count": 43,
   "id": "5f1c9c8b",
   "metadata": {},
   "outputs": [
    {
     "data": {
      "text/plain": [
       "customer_activity_exclusion_flag\n",
       "high activity    24414877\n",
       "Name: count, dtype: int64"
      ]
     },
     "execution_count": 43,
     "metadata": {},
     "output_type": "execute_result"
    }
   ],
   "source": [
    "# to make sure that the new subset includes only high activity customers\n",
    "high_activity_customer_data.value_counts(dropna = True)"
   ]
  },
  {
   "cell_type": "code",
   "execution_count": 44,
   "id": "6de41591",
   "metadata": {},
   "outputs": [
    {
     "data": {
      "text/plain": [
       "(24414877,)"
      ]
     },
     "execution_count": 44,
     "metadata": {},
     "output_type": "execute_result"
    }
   ],
   "source": [
    "high_activity_customer_data.shape"
   ]
  },
  {
   "cell_type": "code",
   "execution_count": 45,
   "id": "f2d9a4b1",
   "metadata": {},
   "outputs": [
    {
     "data": {
      "text/html": [
       "<div>\n",
       "<style scoped>\n",
       "    .dataframe tbody tr th:only-of-type {\n",
       "        vertical-align: middle;\n",
       "    }\n",
       "\n",
       "    .dataframe tbody tr th {\n",
       "        vertical-align: top;\n",
       "    }\n",
       "\n",
       "    .dataframe thead th {\n",
       "        text-align: right;\n",
       "    }\n",
       "</style>\n",
       "<table border=\"1\" class=\"dataframe\">\n",
       "  <thead>\n",
       "    <tr style=\"text-align: right;\">\n",
       "      <th></th>\n",
       "      <th>order_id</th>\n",
       "      <th>user_id</th>\n",
       "      <th>order_number</th>\n",
       "      <th>orders_day_of_week</th>\n",
       "      <th>order_time_of_day</th>\n",
       "      <th>days_since_prior_order</th>\n",
       "      <th>product_id</th>\n",
       "      <th>add_to_cart_order</th>\n",
       "      <th>reordered</th>\n",
       "      <th>_merge</th>\n",
       "      <th>...</th>\n",
       "      <th>order_frequency_flag</th>\n",
       "      <th>gender</th>\n",
       "      <th>state</th>\n",
       "      <th>age</th>\n",
       "      <th>date_joined</th>\n",
       "      <th>n_dependants</th>\n",
       "      <th>fam_status</th>\n",
       "      <th>income</th>\n",
       "      <th>region</th>\n",
       "      <th>customer_activity_exclusion_flag</th>\n",
       "    </tr>\n",
       "  </thead>\n",
       "  <tbody>\n",
       "    <tr>\n",
       "      <th>0</th>\n",
       "      <td>2539329</td>\n",
       "      <td>1</td>\n",
       "      <td>1</td>\n",
       "      <td>2</td>\n",
       "      <td>8</td>\n",
       "      <td>NaN</td>\n",
       "      <td>196.0</td>\n",
       "      <td>1.0</td>\n",
       "      <td>0.0</td>\n",
       "      <td>both</td>\n",
       "      <td>...</td>\n",
       "      <td>Non-frequent customer</td>\n",
       "      <td>Female</td>\n",
       "      <td>Alabama</td>\n",
       "      <td>31</td>\n",
       "      <td>2/17/2019</td>\n",
       "      <td>3</td>\n",
       "      <td>married</td>\n",
       "      <td>40423</td>\n",
       "      <td>South</td>\n",
       "      <td>low activity</td>\n",
       "    </tr>\n",
       "    <tr>\n",
       "      <th>1</th>\n",
       "      <td>2398795</td>\n",
       "      <td>1</td>\n",
       "      <td>2</td>\n",
       "      <td>3</td>\n",
       "      <td>7</td>\n",
       "      <td>15.0</td>\n",
       "      <td>196.0</td>\n",
       "      <td>1.0</td>\n",
       "      <td>1.0</td>\n",
       "      <td>both</td>\n",
       "      <td>...</td>\n",
       "      <td>Non-frequent customer</td>\n",
       "      <td>Female</td>\n",
       "      <td>Alabama</td>\n",
       "      <td>31</td>\n",
       "      <td>2/17/2019</td>\n",
       "      <td>3</td>\n",
       "      <td>married</td>\n",
       "      <td>40423</td>\n",
       "      <td>South</td>\n",
       "      <td>low activity</td>\n",
       "    </tr>\n",
       "    <tr>\n",
       "      <th>2</th>\n",
       "      <td>473747</td>\n",
       "      <td>1</td>\n",
       "      <td>3</td>\n",
       "      <td>3</td>\n",
       "      <td>12</td>\n",
       "      <td>21.0</td>\n",
       "      <td>196.0</td>\n",
       "      <td>1.0</td>\n",
       "      <td>1.0</td>\n",
       "      <td>both</td>\n",
       "      <td>...</td>\n",
       "      <td>Non-frequent customer</td>\n",
       "      <td>Female</td>\n",
       "      <td>Alabama</td>\n",
       "      <td>31</td>\n",
       "      <td>2/17/2019</td>\n",
       "      <td>3</td>\n",
       "      <td>married</td>\n",
       "      <td>40423</td>\n",
       "      <td>South</td>\n",
       "      <td>low activity</td>\n",
       "    </tr>\n",
       "    <tr>\n",
       "      <th>3</th>\n",
       "      <td>2254736</td>\n",
       "      <td>1</td>\n",
       "      <td>4</td>\n",
       "      <td>4</td>\n",
       "      <td>7</td>\n",
       "      <td>29.0</td>\n",
       "      <td>196.0</td>\n",
       "      <td>1.0</td>\n",
       "      <td>1.0</td>\n",
       "      <td>both</td>\n",
       "      <td>...</td>\n",
       "      <td>Non-frequent customer</td>\n",
       "      <td>Female</td>\n",
       "      <td>Alabama</td>\n",
       "      <td>31</td>\n",
       "      <td>2/17/2019</td>\n",
       "      <td>3</td>\n",
       "      <td>married</td>\n",
       "      <td>40423</td>\n",
       "      <td>South</td>\n",
       "      <td>low activity</td>\n",
       "    </tr>\n",
       "    <tr>\n",
       "      <th>4</th>\n",
       "      <td>431534</td>\n",
       "      <td>1</td>\n",
       "      <td>5</td>\n",
       "      <td>4</td>\n",
       "      <td>15</td>\n",
       "      <td>28.0</td>\n",
       "      <td>196.0</td>\n",
       "      <td>1.0</td>\n",
       "      <td>1.0</td>\n",
       "      <td>both</td>\n",
       "      <td>...</td>\n",
       "      <td>Non-frequent customer</td>\n",
       "      <td>Female</td>\n",
       "      <td>Alabama</td>\n",
       "      <td>31</td>\n",
       "      <td>2/17/2019</td>\n",
       "      <td>3</td>\n",
       "      <td>married</td>\n",
       "      <td>40423</td>\n",
       "      <td>South</td>\n",
       "      <td>high activity</td>\n",
       "    </tr>\n",
       "  </tbody>\n",
       "</table>\n",
       "<p>5 rows × 34 columns</p>\n",
       "</div>"
      ],
      "text/plain": [
       "   order_id  user_id  order_number  orders_day_of_week  order_time_of_day  \\\n",
       "0   2539329        1             1                   2                  8   \n",
       "1   2398795        1             2                   3                  7   \n",
       "2    473747        1             3                   3                 12   \n",
       "3   2254736        1             4                   4                  7   \n",
       "4    431534        1             5                   4                 15   \n",
       "\n",
       "   days_since_prior_order  product_id  add_to_cart_order  reordered _merge  \\\n",
       "0                     NaN       196.0                1.0        0.0   both   \n",
       "1                    15.0       196.0                1.0        1.0   both   \n",
       "2                    21.0       196.0                1.0        1.0   both   \n",
       "3                    29.0       196.0                1.0        1.0   both   \n",
       "4                    28.0       196.0                1.0        1.0   both   \n",
       "\n",
       "   ...   order_frequency_flag  gender    state  age date_joined n_dependants  \\\n",
       "0  ...  Non-frequent customer  Female  Alabama   31   2/17/2019            3   \n",
       "1  ...  Non-frequent customer  Female  Alabama   31   2/17/2019            3   \n",
       "2  ...  Non-frequent customer  Female  Alabama   31   2/17/2019            3   \n",
       "3  ...  Non-frequent customer  Female  Alabama   31   2/17/2019            3   \n",
       "4  ...  Non-frequent customer  Female  Alabama   31   2/17/2019            3   \n",
       "\n",
       "  fam_status income region  customer_activity_exclusion_flag  \n",
       "0    married  40423  South                      low activity  \n",
       "1    married  40423  South                      low activity  \n",
       "2    married  40423  South                      low activity  \n",
       "3    married  40423  South                      low activity  \n",
       "4    married  40423  South                     high activity  \n",
       "\n",
       "[5 rows x 34 columns]"
      ]
     },
     "execution_count": 45,
     "metadata": {},
     "output_type": "execute_result"
    }
   ],
   "source": [
    "df_orders_products_customer_merged_ex10.head()"
   ]
  },
  {
   "cell_type": "code",
   "execution_count": 46,
   "id": "967ed4f9",
   "metadata": {},
   "outputs": [
    {
     "data": {
      "text/plain": [
       "(32404859, 34)"
      ]
     },
     "execution_count": 46,
     "metadata": {},
     "output_type": "execute_result"
    }
   ],
   "source": [
    "df_orders_products_customer_merged_ex10.shape"
   ]
  },
  {
   "cell_type": "code",
   "execution_count": 47,
   "id": "b918055c",
   "metadata": {},
   "outputs": [],
   "source": [
    "# Make sure you export this sample. (choose pickle format)\n",
    "\n",
    "high_activity_customer_data.to_pickle(os.path.join(path,'02 Data', 'Prepared Data', 'high_activity_customer_data.pkl'))"
   ]
  },
  {
   "cell_type": "markdown",
   "id": "6260b5a7",
   "metadata": {},
   "source": [
    "### Q5.  Create a profiling variable based on age, income, certain goods in the “department_id” column, and number of dependents. You might also use the “orders_day_of_the_week” and “order_hour_of_day” columns if you can think of a way they would impact customer profiles. (Hint: As an example, try thinking of what characteristics would lead you to the profile “Single adult” or “Young parent.”)"
   ]
  },
  {
   "cell_type": "markdown",
   "id": "08f6e1cb",
   "metadata": {},
   "source": [
    "### 1. Profiling variable based on age"
   ]
  },
  {
   "cell_type": "code",
   "execution_count": 48,
   "id": "72e7771b",
   "metadata": {},
   "outputs": [
    {
     "data": {
      "text/plain": [
       "81"
      ]
     },
     "execution_count": 48,
     "metadata": {},
     "output_type": "execute_result"
    }
   ],
   "source": [
    "df_orders_products_customer_merged_ex10['age'].max()"
   ]
  },
  {
   "cell_type": "code",
   "execution_count": 49,
   "id": "0b9c367e",
   "metadata": {},
   "outputs": [
    {
     "data": {
      "text/plain": [
       "18"
      ]
     },
     "execution_count": 49,
     "metadata": {},
     "output_type": "execute_result"
    }
   ],
   "source": [
    "df_orders_products_customer_merged_ex10['age'].min()"
   ]
  },
  {
   "cell_type": "code",
   "execution_count": 50,
   "id": "233dcefb",
   "metadata": {},
   "outputs": [
    {
     "name": "stderr",
     "output_type": "stream",
     "text": [
      "C:\\Users\\karya\\AppData\\Local\\Temp\\ipykernel_11132\\226161526.py:1: FutureWarning: Setting an item of incompatible dtype is deprecated and will raise in a future error of pandas. Value '18-29' has dtype incompatible with float64, please explicitly cast to a compatible dtype first.\n",
      "  age_group_1 = df_orders_products_customer_merged_ex10.loc[df_orders_products_customer_merged_ex10['age'] <= 29, 'age_group'] = '18-29'\n"
     ]
    }
   ],
   "source": [
    "age_group_1 = df_orders_products_customer_merged_ex10.loc[df_orders_products_customer_merged_ex10['age'] <= 29, 'age_group'] = '18-29'"
   ]
  },
  {
   "cell_type": "code",
   "execution_count": 51,
   "id": "31d7676a",
   "metadata": {},
   "outputs": [],
   "source": [
    "age_group_2 = df_orders_products_customer_merged_ex10.loc[(df_orders_products_customer_merged_ex10['age'] > 29) & (df_orders_products_customer_merged_ex10['age'] <= 39), 'age_group'] = '30-39'"
   ]
  },
  {
   "cell_type": "code",
   "execution_count": 52,
   "id": "08f0c1e3",
   "metadata": {},
   "outputs": [],
   "source": [
    "age_group_3 = df_orders_products_customer_merged_ex10.loc[(df_orders_products_customer_merged_ex10['age'] > 39) & (df_orders_products_customer_merged_ex10['age'] <= 49), 'age_group'] = '40-49'"
   ]
  },
  {
   "cell_type": "code",
   "execution_count": 53,
   "id": "21a3f3c2",
   "metadata": {},
   "outputs": [],
   "source": [
    "age_group_4 = df_orders_products_customer_merged_ex10.loc[(df_orders_products_customer_merged_ex10['age'] > 49) & (df_orders_products_customer_merged_ex10['age'] <= 59), 'age_group'] = '50-59'"
   ]
  },
  {
   "cell_type": "code",
   "execution_count": 54,
   "id": "738812da",
   "metadata": {},
   "outputs": [],
   "source": [
    "age_group_5 = df_orders_products_customer_merged_ex10.loc[(df_orders_products_customer_merged_ex10['age'] > 59) & (df_orders_products_customer_merged_ex10['age'] <= 69), 'age_group'] = '60-69'"
   ]
  },
  {
   "cell_type": "code",
   "execution_count": 55,
   "id": "c4e2588a",
   "metadata": {},
   "outputs": [],
   "source": [
    "age_group_6 = df_orders_products_customer_merged_ex10.loc[(df_orders_products_customer_merged_ex10['age'] > 69) & (df_orders_products_customer_merged_ex10['age'] <= 81), 'age_group'] = '70+'"
   ]
  },
  {
   "cell_type": "code",
   "execution_count": 56,
   "id": "fde44895",
   "metadata": {},
   "outputs": [
    {
     "data": {
      "text/plain": [
       "age_group\n",
       "18-29    6090441\n",
       "70+      6079991\n",
       "40-49    5109237\n",
       "30-39    5073751\n",
       "50-59    5064175\n",
       "60-69    4987264\n",
       "Name: count, dtype: int64"
      ]
     },
     "execution_count": 56,
     "metadata": {},
     "output_type": "execute_result"
    }
   ],
   "source": [
    "df_orders_products_customer_merged_ex10['age_group'].value_counts(dropna = False)"
   ]
  },
  {
   "cell_type": "code",
   "execution_count": 57,
   "id": "71068080",
   "metadata": {},
   "outputs": [
    {
     "data": {
      "text/html": [
       "<div>\n",
       "<style scoped>\n",
       "    .dataframe tbody tr th:only-of-type {\n",
       "        vertical-align: middle;\n",
       "    }\n",
       "\n",
       "    .dataframe tbody tr th {\n",
       "        vertical-align: top;\n",
       "    }\n",
       "\n",
       "    .dataframe thead th {\n",
       "        text-align: right;\n",
       "    }\n",
       "</style>\n",
       "<table border=\"1\" class=\"dataframe\">\n",
       "  <thead>\n",
       "    <tr style=\"text-align: right;\">\n",
       "      <th></th>\n",
       "      <th>order_id</th>\n",
       "      <th>user_id</th>\n",
       "      <th>order_number</th>\n",
       "      <th>orders_day_of_week</th>\n",
       "      <th>order_time_of_day</th>\n",
       "      <th>days_since_prior_order</th>\n",
       "      <th>product_id</th>\n",
       "      <th>add_to_cart_order</th>\n",
       "      <th>reordered</th>\n",
       "      <th>_merge</th>\n",
       "      <th>...</th>\n",
       "      <th>gender</th>\n",
       "      <th>state</th>\n",
       "      <th>age</th>\n",
       "      <th>date_joined</th>\n",
       "      <th>n_dependants</th>\n",
       "      <th>fam_status</th>\n",
       "      <th>income</th>\n",
       "      <th>region</th>\n",
       "      <th>customer_activity_exclusion_flag</th>\n",
       "      <th>age_group</th>\n",
       "    </tr>\n",
       "  </thead>\n",
       "  <tbody>\n",
       "    <tr>\n",
       "      <th>0</th>\n",
       "      <td>2539329</td>\n",
       "      <td>1</td>\n",
       "      <td>1</td>\n",
       "      <td>2</td>\n",
       "      <td>8</td>\n",
       "      <td>NaN</td>\n",
       "      <td>196.0</td>\n",
       "      <td>1.0</td>\n",
       "      <td>0.0</td>\n",
       "      <td>both</td>\n",
       "      <td>...</td>\n",
       "      <td>Female</td>\n",
       "      <td>Alabama</td>\n",
       "      <td>31</td>\n",
       "      <td>2/17/2019</td>\n",
       "      <td>3</td>\n",
       "      <td>married</td>\n",
       "      <td>40423</td>\n",
       "      <td>South</td>\n",
       "      <td>low activity</td>\n",
       "      <td>30-39</td>\n",
       "    </tr>\n",
       "    <tr>\n",
       "      <th>1</th>\n",
       "      <td>2398795</td>\n",
       "      <td>1</td>\n",
       "      <td>2</td>\n",
       "      <td>3</td>\n",
       "      <td>7</td>\n",
       "      <td>15.0</td>\n",
       "      <td>196.0</td>\n",
       "      <td>1.0</td>\n",
       "      <td>1.0</td>\n",
       "      <td>both</td>\n",
       "      <td>...</td>\n",
       "      <td>Female</td>\n",
       "      <td>Alabama</td>\n",
       "      <td>31</td>\n",
       "      <td>2/17/2019</td>\n",
       "      <td>3</td>\n",
       "      <td>married</td>\n",
       "      <td>40423</td>\n",
       "      <td>South</td>\n",
       "      <td>low activity</td>\n",
       "      <td>30-39</td>\n",
       "    </tr>\n",
       "  </tbody>\n",
       "</table>\n",
       "<p>2 rows × 35 columns</p>\n",
       "</div>"
      ],
      "text/plain": [
       "   order_id  user_id  order_number  orders_day_of_week  order_time_of_day  \\\n",
       "0   2539329        1             1                   2                  8   \n",
       "1   2398795        1             2                   3                  7   \n",
       "\n",
       "   days_since_prior_order  product_id  add_to_cart_order  reordered _merge  \\\n",
       "0                     NaN       196.0                1.0        0.0   both   \n",
       "1                    15.0       196.0                1.0        1.0   both   \n",
       "\n",
       "   ...  gender    state  age  date_joined n_dependants fam_status income  \\\n",
       "0  ...  Female  Alabama   31    2/17/2019            3    married  40423   \n",
       "1  ...  Female  Alabama   31    2/17/2019            3    married  40423   \n",
       "\n",
       "  region customer_activity_exclusion_flag  age_group  \n",
       "0  South                     low activity      30-39  \n",
       "1  South                     low activity      30-39  \n",
       "\n",
       "[2 rows x 35 columns]"
      ]
     },
     "execution_count": 57,
     "metadata": {},
     "output_type": "execute_result"
    }
   ],
   "source": [
    "df_orders_products_customer_merged_ex10.head(2)"
   ]
  },
  {
   "cell_type": "markdown",
   "id": "f97c1297",
   "metadata": {},
   "source": [
    "### 2. Profiling variable based on income"
   ]
  },
  {
   "cell_type": "code",
   "execution_count": 58,
   "id": "04aaf0bc",
   "metadata": {},
   "outputs": [
    {
     "data": {
      "text/plain": [
       "count    3.240486e+07\n",
       "mean     9.943773e+04\n",
       "std      4.305727e+04\n",
       "min      2.590300e+04\n",
       "25%      6.700400e+04\n",
       "50%      9.661800e+04\n",
       "75%      1.279120e+05\n",
       "max      5.939010e+05\n",
       "Name: income, dtype: float64"
      ]
     },
     "execution_count": 58,
     "metadata": {},
     "output_type": "execute_result"
    }
   ],
   "source": [
    "df_orders_products_customer_merged_ex10['income'].describe()"
   ]
  },
  {
   "cell_type": "markdown",
   "id": "47ea79f8",
   "metadata": {},
   "source": [
    "### Creating income groups:"
   ]
  },
  {
   "cell_type": "code",
   "execution_count": 59,
   "id": "8f593152",
   "metadata": {},
   "outputs": [
    {
     "name": "stderr",
     "output_type": "stream",
     "text": [
      "C:\\Users\\karya\\AppData\\Local\\Temp\\ipykernel_11132\\625774219.py:1: FutureWarning: Setting an item of incompatible dtype is deprecated and will raise in a future error of pandas. Value 'low income' has dtype incompatible with float64, please explicitly cast to a compatible dtype first.\n",
      "  income_group_1 = df_orders_products_customer_merged_ex10.loc[df_orders_products_customer_merged_ex10['income'] <= 67292, 'income_group'] = 'low income'\n"
     ]
    }
   ],
   "source": [
    "\n",
    "income_group_1 = df_orders_products_customer_merged_ex10.loc[df_orders_products_customer_merged_ex10['income'] <= 67292, 'income_group'] = 'low income'"
   ]
  },
  {
   "cell_type": "code",
   "execution_count": 60,
   "id": "0f98b78a",
   "metadata": {},
   "outputs": [],
   "source": [
    "income_group_2 = df_orders_products_customer_merged_ex10.loc[(df_orders_products_customer_merged_ex10['income'] > 67292) & (df_orders_products_customer_merged_ex10['income'] <= 128102), 'income_group'] = 'middle income'"
   ]
  },
  {
   "cell_type": "code",
   "execution_count": 61,
   "id": "b0dfb5fd",
   "metadata": {},
   "outputs": [],
   "source": [
    "income_group_3 = df_orders_products_customer_merged_ex10.loc[df_orders_products_customer_merged_ex10['income'] > 128102 ,'income_group'] = 'high income'"
   ]
  },
  {
   "cell_type": "code",
   "execution_count": 62,
   "id": "f3736601",
   "metadata": {},
   "outputs": [
    {
     "data": {
      "text/plain": [
       "income_group\n",
       "middle income    16151618\n",
       "low income        8183863\n",
       "high income       8069378\n",
       "Name: count, dtype: int64"
      ]
     },
     "execution_count": 62,
     "metadata": {},
     "output_type": "execute_result"
    }
   ],
   "source": [
    "df_orders_products_customer_merged_ex10['income_group'].value_counts(dropna = False)"
   ]
  },
  {
   "cell_type": "code",
   "execution_count": 63,
   "id": "0a1cbcf7",
   "metadata": {},
   "outputs": [
    {
     "data": {
      "text/html": [
       "<div>\n",
       "<style scoped>\n",
       "    .dataframe tbody tr th:only-of-type {\n",
       "        vertical-align: middle;\n",
       "    }\n",
       "\n",
       "    .dataframe tbody tr th {\n",
       "        vertical-align: top;\n",
       "    }\n",
       "\n",
       "    .dataframe thead th {\n",
       "        text-align: right;\n",
       "    }\n",
       "</style>\n",
       "<table border=\"1\" class=\"dataframe\">\n",
       "  <thead>\n",
       "    <tr style=\"text-align: right;\">\n",
       "      <th></th>\n",
       "      <th>order_id</th>\n",
       "      <th>user_id</th>\n",
       "      <th>order_number</th>\n",
       "      <th>orders_day_of_week</th>\n",
       "      <th>order_time_of_day</th>\n",
       "      <th>days_since_prior_order</th>\n",
       "      <th>product_id</th>\n",
       "      <th>add_to_cart_order</th>\n",
       "      <th>reordered</th>\n",
       "      <th>_merge</th>\n",
       "      <th>...</th>\n",
       "      <th>state</th>\n",
       "      <th>age</th>\n",
       "      <th>date_joined</th>\n",
       "      <th>n_dependants</th>\n",
       "      <th>fam_status</th>\n",
       "      <th>income</th>\n",
       "      <th>region</th>\n",
       "      <th>customer_activity_exclusion_flag</th>\n",
       "      <th>age_group</th>\n",
       "      <th>income_group</th>\n",
       "    </tr>\n",
       "  </thead>\n",
       "  <tbody>\n",
       "    <tr>\n",
       "      <th>0</th>\n",
       "      <td>2539329</td>\n",
       "      <td>1</td>\n",
       "      <td>1</td>\n",
       "      <td>2</td>\n",
       "      <td>8</td>\n",
       "      <td>NaN</td>\n",
       "      <td>196.0</td>\n",
       "      <td>1.0</td>\n",
       "      <td>0.0</td>\n",
       "      <td>both</td>\n",
       "      <td>...</td>\n",
       "      <td>Alabama</td>\n",
       "      <td>31</td>\n",
       "      <td>2/17/2019</td>\n",
       "      <td>3</td>\n",
       "      <td>married</td>\n",
       "      <td>40423</td>\n",
       "      <td>South</td>\n",
       "      <td>low activity</td>\n",
       "      <td>30-39</td>\n",
       "      <td>low income</td>\n",
       "    </tr>\n",
       "    <tr>\n",
       "      <th>1</th>\n",
       "      <td>2398795</td>\n",
       "      <td>1</td>\n",
       "      <td>2</td>\n",
       "      <td>3</td>\n",
       "      <td>7</td>\n",
       "      <td>15.0</td>\n",
       "      <td>196.0</td>\n",
       "      <td>1.0</td>\n",
       "      <td>1.0</td>\n",
       "      <td>both</td>\n",
       "      <td>...</td>\n",
       "      <td>Alabama</td>\n",
       "      <td>31</td>\n",
       "      <td>2/17/2019</td>\n",
       "      <td>3</td>\n",
       "      <td>married</td>\n",
       "      <td>40423</td>\n",
       "      <td>South</td>\n",
       "      <td>low activity</td>\n",
       "      <td>30-39</td>\n",
       "      <td>low income</td>\n",
       "    </tr>\n",
       "  </tbody>\n",
       "</table>\n",
       "<p>2 rows × 36 columns</p>\n",
       "</div>"
      ],
      "text/plain": [
       "   order_id  user_id  order_number  orders_day_of_week  order_time_of_day  \\\n",
       "0   2539329        1             1                   2                  8   \n",
       "1   2398795        1             2                   3                  7   \n",
       "\n",
       "   days_since_prior_order  product_id  add_to_cart_order  reordered _merge  \\\n",
       "0                     NaN       196.0                1.0        0.0   both   \n",
       "1                    15.0       196.0                1.0        1.0   both   \n",
       "\n",
       "   ...    state  age  date_joined  n_dependants fam_status income region  \\\n",
       "0  ...  Alabama   31    2/17/2019             3    married  40423  South   \n",
       "1  ...  Alabama   31    2/17/2019             3    married  40423  South   \n",
       "\n",
       "  customer_activity_exclusion_flag age_group  income_group  \n",
       "0                     low activity     30-39    low income  \n",
       "1                     low activity     30-39    low income  \n",
       "\n",
       "[2 rows x 36 columns]"
      ]
     },
     "execution_count": 63,
     "metadata": {},
     "output_type": "execute_result"
    }
   ],
   "source": [
    "df_orders_products_customer_merged_ex10.head(2)"
   ]
  },
  {
   "cell_type": "markdown",
   "id": "1897ce66",
   "metadata": {},
   "source": [
    "#### 3. Profiling variable based on n_dependant"
   ]
  },
  {
   "cell_type": "code",
   "execution_count": 64,
   "id": "d67b1bba",
   "metadata": {},
   "outputs": [
    {
     "name": "stderr",
     "output_type": "stream",
     "text": [
      "C:\\Users\\karya\\AppData\\Local\\Temp\\ipykernel_11132\\2080150091.py:1: FutureWarning: Setting an item of incompatible dtype is deprecated and will raise in a future error of pandas. Value 'No Dependants' has dtype incompatible with float64, please explicitly cast to a compatible dtype first.\n",
      "  n_dependants_group_1 = df_orders_products_customer_merged_ex10.loc[df_orders_products_customer_merged_ex10['n_dependants'] == 0, 'n_dependants_group'] = 'No Dependants'\n"
     ]
    }
   ],
   "source": [
    "n_dependants_group_1 = df_orders_products_customer_merged_ex10.loc[df_orders_products_customer_merged_ex10['n_dependants'] == 0, 'n_dependants_group'] = 'No Dependants'"
   ]
  },
  {
   "cell_type": "code",
   "execution_count": 65,
   "id": "87806f39",
   "metadata": {},
   "outputs": [],
   "source": [
    "n_dependants_group_2 = df_orders_products_customer_merged_ex10.loc[df_orders_products_customer_merged_ex10['n_dependants'] > 0, 'n_dependants_group'] = 'Has Dependants'"
   ]
  },
  {
   "cell_type": "code",
   "execution_count": 66,
   "id": "95d72780",
   "metadata": {},
   "outputs": [
    {
     "data": {
      "text/plain": [
       "n_dependants\n",
       "3    8135109\n",
       "0    8097503\n",
       "2    8091143\n",
       "1    8081104\n",
       "Name: count, dtype: int64"
      ]
     },
     "execution_count": 66,
     "metadata": {},
     "output_type": "execute_result"
    }
   ],
   "source": [
    "# The number of dependants in the df\n",
    "\n",
    "df_orders_products_customer_merged_ex10['n_dependants'].value_counts()"
   ]
  },
  {
   "cell_type": "code",
   "execution_count": 67,
   "id": "c717497c",
   "metadata": {},
   "outputs": [
    {
     "data": {
      "text/plain": [
       "n_dependants_group\n",
       "Has Dependants    24307356\n",
       "No Dependants      8097503\n",
       "Name: count, dtype: int64"
      ]
     },
     "execution_count": 67,
     "metadata": {},
     "output_type": "execute_result"
    }
   ],
   "source": [
    "# The number of dependants in the df as a group.\n",
    "\n",
    "df_orders_products_customer_merged_ex10['n_dependants_group'].value_counts()"
   ]
  },
  {
   "cell_type": "code",
   "execution_count": 68,
   "id": "99fc769a",
   "metadata": {},
   "outputs": [
    {
     "data": {
      "text/html": [
       "<div>\n",
       "<style scoped>\n",
       "    .dataframe tbody tr th:only-of-type {\n",
       "        vertical-align: middle;\n",
       "    }\n",
       "\n",
       "    .dataframe tbody tr th {\n",
       "        vertical-align: top;\n",
       "    }\n",
       "\n",
       "    .dataframe thead th {\n",
       "        text-align: right;\n",
       "    }\n",
       "</style>\n",
       "<table border=\"1\" class=\"dataframe\">\n",
       "  <thead>\n",
       "    <tr style=\"text-align: right;\">\n",
       "      <th></th>\n",
       "      <th>order_id</th>\n",
       "      <th>user_id</th>\n",
       "      <th>order_number</th>\n",
       "      <th>orders_day_of_week</th>\n",
       "      <th>order_time_of_day</th>\n",
       "      <th>days_since_prior_order</th>\n",
       "      <th>product_id</th>\n",
       "      <th>add_to_cart_order</th>\n",
       "      <th>reordered</th>\n",
       "      <th>_merge</th>\n",
       "      <th>...</th>\n",
       "      <th>age</th>\n",
       "      <th>date_joined</th>\n",
       "      <th>n_dependants</th>\n",
       "      <th>fam_status</th>\n",
       "      <th>income</th>\n",
       "      <th>region</th>\n",
       "      <th>customer_activity_exclusion_flag</th>\n",
       "      <th>age_group</th>\n",
       "      <th>income_group</th>\n",
       "      <th>n_dependants_group</th>\n",
       "    </tr>\n",
       "  </thead>\n",
       "  <tbody>\n",
       "    <tr>\n",
       "      <th>0</th>\n",
       "      <td>2539329</td>\n",
       "      <td>1</td>\n",
       "      <td>1</td>\n",
       "      <td>2</td>\n",
       "      <td>8</td>\n",
       "      <td>NaN</td>\n",
       "      <td>196.0</td>\n",
       "      <td>1.0</td>\n",
       "      <td>0.0</td>\n",
       "      <td>both</td>\n",
       "      <td>...</td>\n",
       "      <td>31</td>\n",
       "      <td>2/17/2019</td>\n",
       "      <td>3</td>\n",
       "      <td>married</td>\n",
       "      <td>40423</td>\n",
       "      <td>South</td>\n",
       "      <td>low activity</td>\n",
       "      <td>30-39</td>\n",
       "      <td>low income</td>\n",
       "      <td>Has Dependants</td>\n",
       "    </tr>\n",
       "    <tr>\n",
       "      <th>1</th>\n",
       "      <td>2398795</td>\n",
       "      <td>1</td>\n",
       "      <td>2</td>\n",
       "      <td>3</td>\n",
       "      <td>7</td>\n",
       "      <td>15.0</td>\n",
       "      <td>196.0</td>\n",
       "      <td>1.0</td>\n",
       "      <td>1.0</td>\n",
       "      <td>both</td>\n",
       "      <td>...</td>\n",
       "      <td>31</td>\n",
       "      <td>2/17/2019</td>\n",
       "      <td>3</td>\n",
       "      <td>married</td>\n",
       "      <td>40423</td>\n",
       "      <td>South</td>\n",
       "      <td>low activity</td>\n",
       "      <td>30-39</td>\n",
       "      <td>low income</td>\n",
       "      <td>Has Dependants</td>\n",
       "    </tr>\n",
       "    <tr>\n",
       "      <th>2</th>\n",
       "      <td>473747</td>\n",
       "      <td>1</td>\n",
       "      <td>3</td>\n",
       "      <td>3</td>\n",
       "      <td>12</td>\n",
       "      <td>21.0</td>\n",
       "      <td>196.0</td>\n",
       "      <td>1.0</td>\n",
       "      <td>1.0</td>\n",
       "      <td>both</td>\n",
       "      <td>...</td>\n",
       "      <td>31</td>\n",
       "      <td>2/17/2019</td>\n",
       "      <td>3</td>\n",
       "      <td>married</td>\n",
       "      <td>40423</td>\n",
       "      <td>South</td>\n",
       "      <td>low activity</td>\n",
       "      <td>30-39</td>\n",
       "      <td>low income</td>\n",
       "      <td>Has Dependants</td>\n",
       "    </tr>\n",
       "    <tr>\n",
       "      <th>3</th>\n",
       "      <td>2254736</td>\n",
       "      <td>1</td>\n",
       "      <td>4</td>\n",
       "      <td>4</td>\n",
       "      <td>7</td>\n",
       "      <td>29.0</td>\n",
       "      <td>196.0</td>\n",
       "      <td>1.0</td>\n",
       "      <td>1.0</td>\n",
       "      <td>both</td>\n",
       "      <td>...</td>\n",
       "      <td>31</td>\n",
       "      <td>2/17/2019</td>\n",
       "      <td>3</td>\n",
       "      <td>married</td>\n",
       "      <td>40423</td>\n",
       "      <td>South</td>\n",
       "      <td>low activity</td>\n",
       "      <td>30-39</td>\n",
       "      <td>low income</td>\n",
       "      <td>Has Dependants</td>\n",
       "    </tr>\n",
       "    <tr>\n",
       "      <th>4</th>\n",
       "      <td>431534</td>\n",
       "      <td>1</td>\n",
       "      <td>5</td>\n",
       "      <td>4</td>\n",
       "      <td>15</td>\n",
       "      <td>28.0</td>\n",
       "      <td>196.0</td>\n",
       "      <td>1.0</td>\n",
       "      <td>1.0</td>\n",
       "      <td>both</td>\n",
       "      <td>...</td>\n",
       "      <td>31</td>\n",
       "      <td>2/17/2019</td>\n",
       "      <td>3</td>\n",
       "      <td>married</td>\n",
       "      <td>40423</td>\n",
       "      <td>South</td>\n",
       "      <td>high activity</td>\n",
       "      <td>30-39</td>\n",
       "      <td>low income</td>\n",
       "      <td>Has Dependants</td>\n",
       "    </tr>\n",
       "  </tbody>\n",
       "</table>\n",
       "<p>5 rows × 37 columns</p>\n",
       "</div>"
      ],
      "text/plain": [
       "   order_id  user_id  order_number  orders_day_of_week  order_time_of_day  \\\n",
       "0   2539329        1             1                   2                  8   \n",
       "1   2398795        1             2                   3                  7   \n",
       "2    473747        1             3                   3                 12   \n",
       "3   2254736        1             4                   4                  7   \n",
       "4    431534        1             5                   4                 15   \n",
       "\n",
       "   days_since_prior_order  product_id  add_to_cart_order  reordered _merge  \\\n",
       "0                     NaN       196.0                1.0        0.0   both   \n",
       "1                    15.0       196.0                1.0        1.0   both   \n",
       "2                    21.0       196.0                1.0        1.0   both   \n",
       "3                    29.0       196.0                1.0        1.0   both   \n",
       "4                    28.0       196.0                1.0        1.0   both   \n",
       "\n",
       "   ... age  date_joined  n_dependants  fam_status income region  \\\n",
       "0  ...  31    2/17/2019             3     married  40423  South   \n",
       "1  ...  31    2/17/2019             3     married  40423  South   \n",
       "2  ...  31    2/17/2019             3     married  40423  South   \n",
       "3  ...  31    2/17/2019             3     married  40423  South   \n",
       "4  ...  31    2/17/2019             3     married  40423  South   \n",
       "\n",
       "  customer_activity_exclusion_flag age_group income_group  n_dependants_group  \n",
       "0                     low activity     30-39   low income      Has Dependants  \n",
       "1                     low activity     30-39   low income      Has Dependants  \n",
       "2                     low activity     30-39   low income      Has Dependants  \n",
       "3                     low activity     30-39   low income      Has Dependants  \n",
       "4                    high activity     30-39   low income      Has Dependants  \n",
       "\n",
       "[5 rows x 37 columns]"
      ]
     },
     "execution_count": 68,
     "metadata": {},
     "output_type": "execute_result"
    }
   ],
   "source": [
    "df_orders_products_customer_merged_ex10.head()"
   ]
  },
  {
   "cell_type": "code",
   "execution_count": 69,
   "id": "8ed8344c",
   "metadata": {},
   "outputs": [
    {
     "data": {
      "text/plain": [
       "fam_status\n",
       "married                             22756753\n",
       "single                               5325691\n",
       "divorced/widowed                     2771812\n",
       "living with parents and siblings     1550603\n",
       "Name: count, dtype: int64"
      ]
     },
     "execution_count": 69,
     "metadata": {},
     "output_type": "execute_result"
    }
   ],
   "source": [
    "df_orders_products_customer_merged_ex10['fam_status'].value_counts(dropna = False)"
   ]
  },
  {
   "cell_type": "code",
   "execution_count": 70,
   "id": "6a303ab7",
   "metadata": {},
   "outputs": [],
   "source": [
    "df_dep = pd.read_csv(os.path.join(path,  '02 Data', 'Prepared Data', 'deparments_wrangled.csv'), index_col = False)"
   ]
  },
  {
   "cell_type": "markdown",
   "id": "72b0d637",
   "metadata": {},
   "source": [
    "### 4: Profiling variable based on department_id"
   ]
  },
  {
   "cell_type": "code",
   "execution_count": 71,
   "id": "52c256fd",
   "metadata": {},
   "outputs": [],
   "source": [
    "df_dep = pd.read_csv(os.path.join(path, '02 Data', 'Prepared Data', 'deparments_wrangled.csv'), index_col = False)"
   ]
  },
  {
   "cell_type": "code",
   "execution_count": 72,
   "id": "cbae478f",
   "metadata": {},
   "outputs": [
    {
     "data": {
      "text/html": [
       "<div>\n",
       "<style scoped>\n",
       "    .dataframe tbody tr th:only-of-type {\n",
       "        vertical-align: middle;\n",
       "    }\n",
       "\n",
       "    .dataframe tbody tr th {\n",
       "        vertical-align: top;\n",
       "    }\n",
       "\n",
       "    .dataframe thead th {\n",
       "        text-align: right;\n",
       "    }\n",
       "</style>\n",
       "<table border=\"1\" class=\"dataframe\">\n",
       "  <thead>\n",
       "    <tr style=\"text-align: right;\">\n",
       "      <th></th>\n",
       "      <th>Unnamed: 0</th>\n",
       "      <th>department</th>\n",
       "    </tr>\n",
       "  </thead>\n",
       "  <tbody>\n",
       "    <tr>\n",
       "      <th>0</th>\n",
       "      <td>1</td>\n",
       "      <td>frozen</td>\n",
       "    </tr>\n",
       "    <tr>\n",
       "      <th>1</th>\n",
       "      <td>2</td>\n",
       "      <td>other</td>\n",
       "    </tr>\n",
       "    <tr>\n",
       "      <th>2</th>\n",
       "      <td>3</td>\n",
       "      <td>bakery</td>\n",
       "    </tr>\n",
       "    <tr>\n",
       "      <th>3</th>\n",
       "      <td>4</td>\n",
       "      <td>produce</td>\n",
       "    </tr>\n",
       "    <tr>\n",
       "      <th>4</th>\n",
       "      <td>5</td>\n",
       "      <td>alcohol</td>\n",
       "    </tr>\n",
       "  </tbody>\n",
       "</table>\n",
       "</div>"
      ],
      "text/plain": [
       "   Unnamed: 0 department\n",
       "0           1     frozen\n",
       "1           2      other\n",
       "2           3     bakery\n",
       "3           4    produce\n",
       "4           5    alcohol"
      ]
     },
     "execution_count": 72,
     "metadata": {},
     "output_type": "execute_result"
    }
   ],
   "source": [
    "df_dep.head()"
   ]
  },
  {
   "cell_type": "code",
   "execution_count": 73,
   "id": "aaaad075",
   "metadata": {},
   "outputs": [],
   "source": [
    "# Rename the colonm for \"department_id\"\n",
    "df_dep = df_dep.rename(columns = {'Unnamed: 0' : 'department_id'})"
   ]
  },
  {
   "cell_type": "code",
   "execution_count": 74,
   "id": "08c373fc",
   "metadata": {},
   "outputs": [
    {
     "data": {
      "text/html": [
       "<div>\n",
       "<style scoped>\n",
       "    .dataframe tbody tr th:only-of-type {\n",
       "        vertical-align: middle;\n",
       "    }\n",
       "\n",
       "    .dataframe tbody tr th {\n",
       "        vertical-align: top;\n",
       "    }\n",
       "\n",
       "    .dataframe thead th {\n",
       "        text-align: right;\n",
       "    }\n",
       "</style>\n",
       "<table border=\"1\" class=\"dataframe\">\n",
       "  <thead>\n",
       "    <tr style=\"text-align: right;\">\n",
       "      <th></th>\n",
       "      <th>department_id</th>\n",
       "      <th>department</th>\n",
       "    </tr>\n",
       "  </thead>\n",
       "  <tbody>\n",
       "    <tr>\n",
       "      <th>0</th>\n",
       "      <td>1</td>\n",
       "      <td>frozen</td>\n",
       "    </tr>\n",
       "    <tr>\n",
       "      <th>1</th>\n",
       "      <td>2</td>\n",
       "      <td>other</td>\n",
       "    </tr>\n",
       "    <tr>\n",
       "      <th>2</th>\n",
       "      <td>3</td>\n",
       "      <td>bakery</td>\n",
       "    </tr>\n",
       "    <tr>\n",
       "      <th>3</th>\n",
       "      <td>4</td>\n",
       "      <td>produce</td>\n",
       "    </tr>\n",
       "    <tr>\n",
       "      <th>4</th>\n",
       "      <td>5</td>\n",
       "      <td>alcohol</td>\n",
       "    </tr>\n",
       "  </tbody>\n",
       "</table>\n",
       "</div>"
      ],
      "text/plain": [
       "   department_id department\n",
       "0              1     frozen\n",
       "1              2      other\n",
       "2              3     bakery\n",
       "3              4    produce\n",
       "4              5    alcohol"
      ]
     },
     "execution_count": 74,
     "metadata": {},
     "output_type": "execute_result"
    }
   ],
   "source": [
    "df_dep.head()"
   ]
  },
  {
   "cell_type": "code",
   "execution_count": 75,
   "id": "1028263d",
   "metadata": {},
   "outputs": [],
   "source": [
    "data_dict = df_dep.to_dict('index')"
   ]
  },
  {
   "cell_type": "code",
   "execution_count": 76,
   "id": "4130f7c0",
   "metadata": {},
   "outputs": [
    {
     "data": {
      "text/plain": [
       "{0: {'department_id': 1, 'department': 'frozen'},\n",
       " 1: {'department_id': 2, 'department': 'other'},\n",
       " 2: {'department_id': 3, 'department': 'bakery'},\n",
       " 3: {'department_id': 4, 'department': 'produce'},\n",
       " 4: {'department_id': 5, 'department': 'alcohol'},\n",
       " 5: {'department_id': 6, 'department': 'international'},\n",
       " 6: {'department_id': 7, 'department': 'beverages'},\n",
       " 7: {'department_id': 8, 'department': 'pets'},\n",
       " 8: {'department_id': 9, 'department': 'dry goods pasta'},\n",
       " 9: {'department_id': 10, 'department': 'bulk'},\n",
       " 10: {'department_id': 11, 'department': 'personal care'},\n",
       " 11: {'department_id': 12, 'department': 'meat seafood'},\n",
       " 12: {'department_id': 13, 'department': 'pantry'},\n",
       " 13: {'department_id': 14, 'department': 'breakfast'},\n",
       " 14: {'department_id': 15, 'department': 'canned goods'},\n",
       " 15: {'department_id': 16, 'department': 'dairy eggs'},\n",
       " 16: {'department_id': 17, 'department': 'household'},\n",
       " 17: {'department_id': 18, 'department': 'babies'},\n",
       " 18: {'department_id': 19, 'department': 'snacks'},\n",
       " 19: {'department_id': 20, 'department': 'deli'},\n",
       " 20: {'department_id': 21, 'department': 'missing'}}"
      ]
     },
     "execution_count": 76,
     "metadata": {},
     "output_type": "execute_result"
    }
   ],
   "source": [
    "data_dict"
   ]
  },
  {
   "cell_type": "code",
   "execution_count": 77,
   "id": "6b97c328",
   "metadata": {},
   "outputs": [],
   "source": [
    "# Merging 'department' column with the data set \n",
    "\n",
    "df_orders_products_customer_merged_ex10 =  df_orders_products_customer_merged_ex10.merge(df_dep, on = 'department_id')"
   ]
  },
  {
   "cell_type": "code",
   "execution_count": 78,
   "id": "cda03bc1",
   "metadata": {},
   "outputs": [
    {
     "data": {
      "text/html": [
       "<div>\n",
       "<style scoped>\n",
       "    .dataframe tbody tr th:only-of-type {\n",
       "        vertical-align: middle;\n",
       "    }\n",
       "\n",
       "    .dataframe tbody tr th {\n",
       "        vertical-align: top;\n",
       "    }\n",
       "\n",
       "    .dataframe thead th {\n",
       "        text-align: right;\n",
       "    }\n",
       "</style>\n",
       "<table border=\"1\" class=\"dataframe\">\n",
       "  <thead>\n",
       "    <tr style=\"text-align: right;\">\n",
       "      <th></th>\n",
       "      <th>order_id</th>\n",
       "      <th>user_id</th>\n",
       "      <th>order_number</th>\n",
       "      <th>orders_day_of_week</th>\n",
       "      <th>order_time_of_day</th>\n",
       "      <th>days_since_prior_order</th>\n",
       "      <th>product_id</th>\n",
       "      <th>add_to_cart_order</th>\n",
       "      <th>reordered</th>\n",
       "      <th>_merge</th>\n",
       "      <th>...</th>\n",
       "      <th>date_joined</th>\n",
       "      <th>n_dependants</th>\n",
       "      <th>fam_status</th>\n",
       "      <th>income</th>\n",
       "      <th>region</th>\n",
       "      <th>customer_activity_exclusion_flag</th>\n",
       "      <th>age_group</th>\n",
       "      <th>income_group</th>\n",
       "      <th>n_dependants_group</th>\n",
       "      <th>department</th>\n",
       "    </tr>\n",
       "  </thead>\n",
       "  <tbody>\n",
       "    <tr>\n",
       "      <th>0</th>\n",
       "      <td>2539329</td>\n",
       "      <td>1</td>\n",
       "      <td>1</td>\n",
       "      <td>2</td>\n",
       "      <td>8</td>\n",
       "      <td>NaN</td>\n",
       "      <td>196.0</td>\n",
       "      <td>1.0</td>\n",
       "      <td>0.0</td>\n",
       "      <td>both</td>\n",
       "      <td>...</td>\n",
       "      <td>2/17/2019</td>\n",
       "      <td>3</td>\n",
       "      <td>married</td>\n",
       "      <td>40423</td>\n",
       "      <td>South</td>\n",
       "      <td>low activity</td>\n",
       "      <td>30-39</td>\n",
       "      <td>low income</td>\n",
       "      <td>Has Dependants</td>\n",
       "      <td>beverages</td>\n",
       "    </tr>\n",
       "    <tr>\n",
       "      <th>1</th>\n",
       "      <td>2398795</td>\n",
       "      <td>1</td>\n",
       "      <td>2</td>\n",
       "      <td>3</td>\n",
       "      <td>7</td>\n",
       "      <td>15.0</td>\n",
       "      <td>196.0</td>\n",
       "      <td>1.0</td>\n",
       "      <td>1.0</td>\n",
       "      <td>both</td>\n",
       "      <td>...</td>\n",
       "      <td>2/17/2019</td>\n",
       "      <td>3</td>\n",
       "      <td>married</td>\n",
       "      <td>40423</td>\n",
       "      <td>South</td>\n",
       "      <td>low activity</td>\n",
       "      <td>30-39</td>\n",
       "      <td>low income</td>\n",
       "      <td>Has Dependants</td>\n",
       "      <td>beverages</td>\n",
       "    </tr>\n",
       "  </tbody>\n",
       "</table>\n",
       "<p>2 rows × 38 columns</p>\n",
       "</div>"
      ],
      "text/plain": [
       "   order_id  user_id  order_number  orders_day_of_week  order_time_of_day  \\\n",
       "0   2539329        1             1                   2                  8   \n",
       "1   2398795        1             2                   3                  7   \n",
       "\n",
       "   days_since_prior_order  product_id  add_to_cart_order  reordered _merge  \\\n",
       "0                     NaN       196.0                1.0        0.0   both   \n",
       "1                    15.0       196.0                1.0        1.0   both   \n",
       "\n",
       "   ... date_joined  n_dependants  fam_status  income region  \\\n",
       "0  ...   2/17/2019             3     married   40423  South   \n",
       "1  ...   2/17/2019             3     married   40423  South   \n",
       "\n",
       "  customer_activity_exclusion_flag age_group income_group n_dependants_group  \\\n",
       "0                     low activity     30-39   low income     Has Dependants   \n",
       "1                     low activity     30-39   low income     Has Dependants   \n",
       "\n",
       "   department  \n",
       "0   beverages  \n",
       "1   beverages  \n",
       "\n",
       "[2 rows x 38 columns]"
      ]
     },
     "execution_count": 78,
     "metadata": {},
     "output_type": "execute_result"
    }
   ],
   "source": [
    "df_orders_products_customer_merged_ex10.head(2)"
   ]
  },
  {
   "cell_type": "code",
   "execution_count": 79,
   "id": "9d7a9322",
   "metadata": {},
   "outputs": [
    {
     "data": {
      "text/plain": [
       "Index(['order_id', 'user_id', 'order_number', 'orders_day_of_week',\n",
       "       'order_time_of_day', 'days_since_prior_order', 'product_id',\n",
       "       'add_to_cart_order', 'reordered', '_merge', 'product_name', 'aisle_id',\n",
       "       'department_id', 'prices', '_merged2', 'price_range_loc', 'Busiest day',\n",
       "       'Busiest days', 'busiest_period_of_day', 'max_order', 'loyalty_flag',\n",
       "       'average_price', 'spending_flag', 'median_prior_orders',\n",
       "       'order_frequency_flag', 'gender', 'state', 'age', 'date_joined',\n",
       "       'n_dependants', 'fam_status', 'income', 'region',\n",
       "       'customer_activity_exclusion_flag', 'age_group', 'income_group',\n",
       "       'n_dependants_group', 'department'],\n",
       "      dtype='object')"
      ]
     },
     "execution_count": 79,
     "metadata": {},
     "output_type": "execute_result"
    }
   ],
   "source": [
    "df_orders_products_customer_merged_ex10.columns"
   ]
  },
  {
   "cell_type": "markdown",
   "id": "970159ef",
   "metadata": {},
   "source": [
    "### Profiling variable based on 'fam_status'"
   ]
  },
  {
   "cell_type": "code",
   "execution_count": 80,
   "id": "0164b1de",
   "metadata": {},
   "outputs": [
    {
     "data": {
      "text/plain": [
       "fam_status\n",
       "married                             22756753\n",
       "single                               5325691\n",
       "divorced/widowed                     2771812\n",
       "living with parents and siblings     1550603\n",
       "Name: count, dtype: int64"
      ]
     },
     "execution_count": 80,
     "metadata": {},
     "output_type": "execute_result"
    }
   ],
   "source": [
    "df_orders_products_customer_merged_ex10['fam_status'].value_counts(dropna = False)"
   ]
  },
  {
   "cell_type": "code",
   "execution_count": 81,
   "id": "795a6d9b",
   "metadata": {},
   "outputs": [
    {
     "data": {
      "text/plain": [
       "gender\n",
       "Male      16315029\n",
       "Female    16089830\n",
       "Name: count, dtype: int64"
      ]
     },
     "execution_count": 81,
     "metadata": {},
     "output_type": "execute_result"
    }
   ],
   "source": [
    "df_orders_products_customer_merged_ex10['gender'].value_counts(dropna = False)"
   ]
  },
  {
   "cell_type": "markdown",
   "id": "1e1b07f6",
   "metadata": {},
   "source": [
    "#### 1. Married Male and Married Female with no children"
   ]
  },
  {
   "cell_type": "code",
   "execution_count": 94,
   "id": "7276c726",
   "metadata": {
    "scrolled": true
   },
   "outputs": [],
   "source": [
    "df_orders_products_customer_merged_ex10.loc[(df_orders_products_customer_merged_ex10['fam_status'] == 'married') & (df_orders_products_customer_merged_ex10['n_dependants_group'] == 'No Dependants') & (df_orders_products_customer_merged_ex10['gender'] == 'Female'), 'family_profile'] = 'married female, no children'"
   ]
  },
  {
   "cell_type": "code",
   "execution_count": 95,
   "id": "ca4a1f0f",
   "metadata": {},
   "outputs": [],
   "source": [
    "df_orders_products_customer_merged_ex10.loc[(df_orders_products_customer_merged_ex10['fam_status'] == 'married') & (df_orders_products_customer_merged_ex10['n_dependants_group'] == 'No Dependants') & (df_orders_products_customer_merged_ex10['gender'] == 'Male'), 'family_profile'] = 'married male, no children'"
   ]
  },
  {
   "cell_type": "markdown",
   "id": "ca204f8d",
   "metadata": {},
   "source": [
    "#### 2. Married Male and Married Female with children"
   ]
  },
  {
   "cell_type": "code",
   "execution_count": 96,
   "id": "e53daa61",
   "metadata": {},
   "outputs": [],
   "source": [
    "df_orders_products_customer_merged_ex10.loc[(df_orders_products_customer_merged_ex10['fam_status'] == 'married') & (df_orders_products_customer_merged_ex10['n_dependants_group'] == 'Has Dependants') & (df_orders_products_customer_merged_ex10['gender'] == 'Female'), 'family_profile'] = 'married female with children'"
   ]
  },
  {
   "cell_type": "code",
   "execution_count": 97,
   "id": "3fb03fea",
   "metadata": {},
   "outputs": [],
   "source": [
    "df_orders_products_customer_merged_ex10.loc[(df_orders_products_customer_merged_ex10['fam_status'] == 'married') & (df_orders_products_customer_merged_ex10['n_dependants_group'] == 'Has Dependants') & (df_orders_products_customer_merged_ex10['gender'] == 'Male'), 'family_profile'] = 'married male with children'"
   ]
  },
  {
   "cell_type": "markdown",
   "id": "086a0c6e",
   "metadata": {},
   "source": [
    "### 3. Single Male and single Female with no children"
   ]
  },
  {
   "cell_type": "code",
   "execution_count": 98,
   "id": "c51653b1",
   "metadata": {},
   "outputs": [],
   "source": [
    "df_orders_products_customer_merged_ex10.loc[(df_orders_products_customer_merged_ex10['fam_status'].isin(['single', 'living with parents and siblings', 'divorced/widowed'])) & (df_orders_products_customer_merged_ex10['n_dependants_group'] == 'No Dependants') & (df_orders_products_customer_merged_ex10['gender'] == 'Female'), 'family_profile'] = 'single female, no children'"
   ]
  },
  {
   "cell_type": "code",
   "execution_count": 99,
   "id": "924dff80",
   "metadata": {},
   "outputs": [],
   "source": [
    "df_orders_products_customer_merged_ex10.loc[(df_orders_products_customer_merged_ex10['fam_status'].isin(['single', 'living with parents and siblings', 'divorced/widowed'])) & (df_orders_products_customer_merged_ex10['n_dependants_group'] == 'No Dependants') & (df_orders_products_customer_merged_ex10['gender'] == 'Male'), 'family_profile'] = 'single male, no children'"
   ]
  },
  {
   "cell_type": "markdown",
   "id": "0217f108",
   "metadata": {},
   "source": [
    "#### 4. Single Male and single Female with children"
   ]
  },
  {
   "cell_type": "code",
   "execution_count": 100,
   "id": "c7457095",
   "metadata": {},
   "outputs": [],
   "source": [
    "df_orders_products_customer_merged_ex10.loc[(df_orders_products_customer_merged_ex10['fam_status'].isin(['single', 'living with parents and siblings', 'divorced/widowed'])) & (df_orders_products_customer_merged_ex10['n_dependants_group'] == 'Has Dependants') & (df_orders_products_customer_merged_ex10['gender'] == 'Female'), 'family_profile'] = 'single female with children'"
   ]
  },
  {
   "cell_type": "code",
   "execution_count": 101,
   "id": "b184f050",
   "metadata": {},
   "outputs": [],
   "source": [
    "df_orders_products_customer_merged_ex10.loc[(df_orders_products_customer_merged_ex10['fam_status'].isin(['single', 'living with parents and siblings', 'divorced/widowed'])) & (df_orders_products_customer_merged_ex10['n_dependants_group'] == 'Has Dependants') & (df_orders_products_customer_merged_ex10['gender'] == 'Male'), 'family_profile'] = 'single male with children'"
   ]
  },
  {
   "cell_type": "code",
   "execution_count": 102,
   "id": "485a58b5",
   "metadata": {},
   "outputs": [
    {
     "data": {
      "text/plain": [
       "Index(['order_id', 'user_id', 'order_number', 'orders_day_of_week',\n",
       "       'order_time_of_day', 'days_since_prior_order', 'product_id',\n",
       "       'add_to_cart_order', 'reordered', '_merge', 'product_name', 'aisle_id',\n",
       "       'department_id', 'prices', '_merged2', 'price_range_loc', 'Busiest day',\n",
       "       'Busiest days', 'busiest_period_of_day', 'max_order', 'loyalty_flag',\n",
       "       'average_price', 'spending_flag', 'median_prior_orders',\n",
       "       'order_frequency_flag', 'gender', 'state', 'age', 'date_joined',\n",
       "       'n_dependants', 'fam_status', 'income', 'region',\n",
       "       'customer_activity_exclusion_flag', 'age_group', 'income_group',\n",
       "       'n_dependants_group', 'department', 'family_profile'],\n",
       "      dtype='object')"
      ]
     },
     "execution_count": 102,
     "metadata": {},
     "output_type": "execute_result"
    }
   ],
   "source": [
    "df_orders_products_customer_merged_ex10.columns"
   ]
  },
  {
   "cell_type": "code",
   "execution_count": 103,
   "id": "ed3325b8",
   "metadata": {},
   "outputs": [
    {
     "data": {
      "text/html": [
       "<div>\n",
       "<style scoped>\n",
       "    .dataframe tbody tr th:only-of-type {\n",
       "        vertical-align: middle;\n",
       "    }\n",
       "\n",
       "    .dataframe tbody tr th {\n",
       "        vertical-align: top;\n",
       "    }\n",
       "\n",
       "    .dataframe thead th {\n",
       "        text-align: right;\n",
       "    }\n",
       "</style>\n",
       "<table border=\"1\" class=\"dataframe\">\n",
       "  <thead>\n",
       "    <tr style=\"text-align: right;\">\n",
       "      <th></th>\n",
       "      <th>order_id</th>\n",
       "      <th>user_id</th>\n",
       "      <th>order_number</th>\n",
       "      <th>orders_day_of_week</th>\n",
       "      <th>order_time_of_day</th>\n",
       "      <th>days_since_prior_order</th>\n",
       "      <th>product_id</th>\n",
       "      <th>add_to_cart_order</th>\n",
       "      <th>reordered</th>\n",
       "      <th>_merge</th>\n",
       "      <th>...</th>\n",
       "      <th>n_dependants</th>\n",
       "      <th>fam_status</th>\n",
       "      <th>income</th>\n",
       "      <th>region</th>\n",
       "      <th>customer_activity_exclusion_flag</th>\n",
       "      <th>age_group</th>\n",
       "      <th>income_group</th>\n",
       "      <th>n_dependants_group</th>\n",
       "      <th>department</th>\n",
       "      <th>family_profile</th>\n",
       "    </tr>\n",
       "  </thead>\n",
       "  <tbody>\n",
       "    <tr>\n",
       "      <th>0</th>\n",
       "      <td>2539329</td>\n",
       "      <td>1</td>\n",
       "      <td>1</td>\n",
       "      <td>2</td>\n",
       "      <td>8</td>\n",
       "      <td>NaN</td>\n",
       "      <td>196.0</td>\n",
       "      <td>1.0</td>\n",
       "      <td>0.0</td>\n",
       "      <td>both</td>\n",
       "      <td>...</td>\n",
       "      <td>3</td>\n",
       "      <td>married</td>\n",
       "      <td>40423</td>\n",
       "      <td>South</td>\n",
       "      <td>low activity</td>\n",
       "      <td>30-39</td>\n",
       "      <td>low income</td>\n",
       "      <td>Has Dependants</td>\n",
       "      <td>beverages</td>\n",
       "      <td>married female with children</td>\n",
       "    </tr>\n",
       "    <tr>\n",
       "      <th>1</th>\n",
       "      <td>2398795</td>\n",
       "      <td>1</td>\n",
       "      <td>2</td>\n",
       "      <td>3</td>\n",
       "      <td>7</td>\n",
       "      <td>15.0</td>\n",
       "      <td>196.0</td>\n",
       "      <td>1.0</td>\n",
       "      <td>1.0</td>\n",
       "      <td>both</td>\n",
       "      <td>...</td>\n",
       "      <td>3</td>\n",
       "      <td>married</td>\n",
       "      <td>40423</td>\n",
       "      <td>South</td>\n",
       "      <td>low activity</td>\n",
       "      <td>30-39</td>\n",
       "      <td>low income</td>\n",
       "      <td>Has Dependants</td>\n",
       "      <td>beverages</td>\n",
       "      <td>married female with children</td>\n",
       "    </tr>\n",
       "    <tr>\n",
       "      <th>2</th>\n",
       "      <td>473747</td>\n",
       "      <td>1</td>\n",
       "      <td>3</td>\n",
       "      <td>3</td>\n",
       "      <td>12</td>\n",
       "      <td>21.0</td>\n",
       "      <td>196.0</td>\n",
       "      <td>1.0</td>\n",
       "      <td>1.0</td>\n",
       "      <td>both</td>\n",
       "      <td>...</td>\n",
       "      <td>3</td>\n",
       "      <td>married</td>\n",
       "      <td>40423</td>\n",
       "      <td>South</td>\n",
       "      <td>low activity</td>\n",
       "      <td>30-39</td>\n",
       "      <td>low income</td>\n",
       "      <td>Has Dependants</td>\n",
       "      <td>beverages</td>\n",
       "      <td>married female with children</td>\n",
       "    </tr>\n",
       "    <tr>\n",
       "      <th>3</th>\n",
       "      <td>2254736</td>\n",
       "      <td>1</td>\n",
       "      <td>4</td>\n",
       "      <td>4</td>\n",
       "      <td>7</td>\n",
       "      <td>29.0</td>\n",
       "      <td>196.0</td>\n",
       "      <td>1.0</td>\n",
       "      <td>1.0</td>\n",
       "      <td>both</td>\n",
       "      <td>...</td>\n",
       "      <td>3</td>\n",
       "      <td>married</td>\n",
       "      <td>40423</td>\n",
       "      <td>South</td>\n",
       "      <td>low activity</td>\n",
       "      <td>30-39</td>\n",
       "      <td>low income</td>\n",
       "      <td>Has Dependants</td>\n",
       "      <td>beverages</td>\n",
       "      <td>married female with children</td>\n",
       "    </tr>\n",
       "    <tr>\n",
       "      <th>4</th>\n",
       "      <td>431534</td>\n",
       "      <td>1</td>\n",
       "      <td>5</td>\n",
       "      <td>4</td>\n",
       "      <td>15</td>\n",
       "      <td>28.0</td>\n",
       "      <td>196.0</td>\n",
       "      <td>1.0</td>\n",
       "      <td>1.0</td>\n",
       "      <td>both</td>\n",
       "      <td>...</td>\n",
       "      <td>3</td>\n",
       "      <td>married</td>\n",
       "      <td>40423</td>\n",
       "      <td>South</td>\n",
       "      <td>high activity</td>\n",
       "      <td>30-39</td>\n",
       "      <td>low income</td>\n",
       "      <td>Has Dependants</td>\n",
       "      <td>beverages</td>\n",
       "      <td>married female with children</td>\n",
       "    </tr>\n",
       "  </tbody>\n",
       "</table>\n",
       "<p>5 rows × 39 columns</p>\n",
       "</div>"
      ],
      "text/plain": [
       "   order_id  user_id  order_number  orders_day_of_week  order_time_of_day  \\\n",
       "0   2539329        1             1                   2                  8   \n",
       "1   2398795        1             2                   3                  7   \n",
       "2    473747        1             3                   3                 12   \n",
       "3   2254736        1             4                   4                  7   \n",
       "4    431534        1             5                   4                 15   \n",
       "\n",
       "   days_since_prior_order  product_id  add_to_cart_order  reordered _merge  \\\n",
       "0                     NaN       196.0                1.0        0.0   both   \n",
       "1                    15.0       196.0                1.0        1.0   both   \n",
       "2                    21.0       196.0                1.0        1.0   both   \n",
       "3                    29.0       196.0                1.0        1.0   both   \n",
       "4                    28.0       196.0                1.0        1.0   both   \n",
       "\n",
       "   ... n_dependants  fam_status  income  region  \\\n",
       "0  ...            3     married   40423   South   \n",
       "1  ...            3     married   40423   South   \n",
       "2  ...            3     married   40423   South   \n",
       "3  ...            3     married   40423   South   \n",
       "4  ...            3     married   40423   South   \n",
       "\n",
       "  customer_activity_exclusion_flag age_group income_group n_dependants_group  \\\n",
       "0                     low activity     30-39   low income     Has Dependants   \n",
       "1                     low activity     30-39   low income     Has Dependants   \n",
       "2                     low activity     30-39   low income     Has Dependants   \n",
       "3                     low activity     30-39   low income     Has Dependants   \n",
       "4                    high activity     30-39   low income     Has Dependants   \n",
       "\n",
       "  department                family_profile  \n",
       "0  beverages  married female with children  \n",
       "1  beverages  married female with children  \n",
       "2  beverages  married female with children  \n",
       "3  beverages  married female with children  \n",
       "4  beverages  married female with children  \n",
       "\n",
       "[5 rows x 39 columns]"
      ]
     },
     "execution_count": 103,
     "metadata": {},
     "output_type": "execute_result"
    }
   ],
   "source": [
    "df_orders_products_customer_merged_ex10.head()"
   ]
  },
  {
   "cell_type": "code",
   "execution_count": 104,
   "id": "479fe9da",
   "metadata": {},
   "outputs": [],
   "source": [
    "df_orders_products_customer_merged_ex10.to_pickle(os.path.join(path, '02 Data', 'Prepared Data','df_orders_products_customer_merged_ex10_final_report.pkl'))"
   ]
  },
  {
   "cell_type": "code",
   "execution_count": null,
   "id": "2af0d94e",
   "metadata": {},
   "outputs": [],
   "source": []
  }
 ],
 "metadata": {
  "kernelspec": {
   "display_name": "Python 3 (ipykernel)",
   "language": "python",
   "name": "python3"
  },
  "language_info": {
   "codemirror_mode": {
    "name": "ipython",
    "version": 3
   },
   "file_extension": ".py",
   "mimetype": "text/x-python",
   "name": "python",
   "nbconvert_exporter": "python",
   "pygments_lexer": "ipython3",
   "version": "3.11.5"
  }
 },
 "nbformat": 4,
 "nbformat_minor": 5
}
