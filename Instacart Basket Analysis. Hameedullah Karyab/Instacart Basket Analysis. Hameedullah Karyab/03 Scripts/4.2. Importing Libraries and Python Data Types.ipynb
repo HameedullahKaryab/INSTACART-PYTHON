{
 "cells": [
  {
   "cell_type": "markdown",
   "id": "d750808e",
   "metadata": {},
   "source": [
    "\n",
    "# 01. Importing libraries"
   ]
  },
  {
   "cell_type": "code",
   "execution_count": 33,
   "id": "dc1ef220",
   "metadata": {},
   "outputs": [],
   "source": [
    "# Import libraries\n",
    "import pandas as pd\n",
    "import numpy as np\n",
    "import os "
   ]
  },
  {
   "cell_type": "markdown",
   "id": "e427ea33",
   "metadata": {},
   "source": [
    "# 02. Python Data Types"
   ]
  },
  {
   "cell_type": "code",
   "execution_count": 34,
   "id": "e7ac3c17",
   "metadata": {},
   "outputs": [],
   "source": [
    "# Code 3 different ways of reaching a result of 100 by adding or subtracting numeric variables\n",
    "x=60"
   ]
  },
  {
   "cell_type": "code",
   "execution_count": 35,
   "id": "1450ca9d",
   "metadata": {},
   "outputs": [
    {
     "name": "stdout",
     "output_type": "stream",
     "text": [
      "60\n"
     ]
    }
   ],
   "source": [
    "print(x)"
   ]
  },
  {
   "cell_type": "code",
   "execution_count": 36,
   "id": "57f33493",
   "metadata": {},
   "outputs": [],
   "source": [
    "y= 40"
   ]
  },
  {
   "cell_type": "code",
   "execution_count": 37,
   "id": "023dc4fe",
   "metadata": {},
   "outputs": [
    {
     "name": "stdout",
     "output_type": "stream",
     "text": [
      "40\n"
     ]
    }
   ],
   "source": [
    "print(y)"
   ]
  },
  {
   "cell_type": "code",
   "execution_count": 38,
   "id": "d4ba91bb",
   "metadata": {},
   "outputs": [
    {
     "data": {
      "text/plain": [
       "100"
      ]
     },
     "execution_count": 38,
     "metadata": {},
     "output_type": "execute_result"
    }
   ],
   "source": [
    "x + y"
   ]
  },
  {
   "cell_type": "code",
   "execution_count": 39,
   "id": "3fbb341b",
   "metadata": {},
   "outputs": [
    {
     "data": {
      "text/plain": [
       "100"
      ]
     },
     "execution_count": 39,
     "metadata": {},
     "output_type": "execute_result"
    }
   ],
   "source": [
    "160 - x"
   ]
  },
  {
   "cell_type": "code",
   "execution_count": 40,
   "id": "4698d2cc",
   "metadata": {},
   "outputs": [
    {
     "data": {
      "text/plain": [
       "100"
      ]
     },
     "execution_count": 40,
     "metadata": {},
     "output_type": "execute_result"
    }
   ],
   "source": [
    "y + 60"
   ]
  },
  {
   "cell_type": "code",
   "execution_count": 41,
   "id": "488fd86f",
   "metadata": {},
   "outputs": [],
   "source": [
    "# Code 2 floating-point variables and divide them by each other.\n",
    "x = 5.5"
   ]
  },
  {
   "cell_type": "code",
   "execution_count": 42,
   "id": "1d5ec1e2",
   "metadata": {},
   "outputs": [
    {
     "name": "stdout",
     "output_type": "stream",
     "text": [
      "5.5\n"
     ]
    }
   ],
   "source": [
    "print(x)"
   ]
  },
  {
   "cell_type": "code",
   "execution_count": 43,
   "id": "1f978e35",
   "metadata": {},
   "outputs": [],
   "source": [
    "y = 2.2"
   ]
  },
  {
   "cell_type": "code",
   "execution_count": 44,
   "id": "6846bd4f",
   "metadata": {},
   "outputs": [
    {
     "name": "stdout",
     "output_type": "stream",
     "text": [
      "2.2\n"
     ]
    }
   ],
   "source": [
    "print(y)"
   ]
  },
  {
   "cell_type": "code",
   "execution_count": 45,
   "id": "b6501832",
   "metadata": {},
   "outputs": [
    {
     "data": {
      "text/plain": [
       "2.5"
      ]
     },
     "execution_count": 45,
     "metadata": {},
     "output_type": "execute_result"
    }
   ],
   "source": [
    "5.5/2.2"
   ]
  },
  {
   "cell_type": "code",
   "execution_count": 46,
   "id": "db6098ea",
   "metadata": {},
   "outputs": [],
   "source": [
    "# Construct a short word made of separate strings (you’ll need to concatenate some strings!).\n",
    "a ='H'"
   ]
  },
  {
   "cell_type": "code",
   "execution_count": 47,
   "id": "8d2bec32",
   "metadata": {},
   "outputs": [],
   "source": [
    "b= \"i\""
   ]
  },
  {
   "cell_type": "code",
   "execution_count": 48,
   "id": "cafdade1",
   "metadata": {},
   "outputs": [
    {
     "data": {
      "text/plain": [
       "'Hi'"
      ]
     },
     "execution_count": 48,
     "metadata": {},
     "output_type": "execute_result"
    }
   ],
   "source": [
    "a + b"
   ]
  },
  {
   "cell_type": "code",
   "execution_count": 49,
   "id": "bd70b333",
   "metadata": {},
   "outputs": [],
   "source": [
    "# Construct 2 short sentences made of separate strings.\n",
    "c = \"Hello ! \"\n"
   ]
  },
  {
   "cell_type": "code",
   "execution_count": 50,
   "id": "009cfd8b",
   "metadata": {},
   "outputs": [],
   "source": [
    "d = \"Good moring .\""
   ]
  },
  {
   "cell_type": "code",
   "execution_count": 51,
   "id": "5a20a806",
   "metadata": {},
   "outputs": [
    {
     "data": {
      "text/plain": [
       "'Hello ! Good moring .'"
      ]
     },
     "execution_count": 51,
     "metadata": {},
     "output_type": "execute_result"
    }
   ],
   "source": [
    "c+d"
   ]
  },
  {
   "cell_type": "code",
   "execution_count": 52,
   "id": "8f12c7e2",
   "metadata": {},
   "outputs": [],
   "source": [
    "e = \"My name is Hameedullah Karyab. \""
   ]
  },
  {
   "cell_type": "code",
   "execution_count": 53,
   "id": "31cbe6cd",
   "metadata": {},
   "outputs": [],
   "source": [
    "f = \"I am a student of data analytics program at Careerfoundry.\""
   ]
  },
  {
   "cell_type": "code",
   "execution_count": 54,
   "id": "a27bbdba",
   "metadata": {},
   "outputs": [
    {
     "data": {
      "text/plain": [
       "'My name is Hameedullah Karyab. I am a student of data analytics program at Careerfoundry.'"
      ]
     },
     "execution_count": 54,
     "metadata": {},
     "output_type": "execute_result"
    }
   ],
   "source": [
    "e +f "
   ]
  },
  {
   "cell_type": "code",
   "execution_count": null,
   "id": "07687183",
   "metadata": {},
   "outputs": [],
   "source": []
  }
 ],
 "metadata": {
  "kernelspec": {
   "display_name": "Python 3 (ipykernel)",
   "language": "python",
   "name": "python3"
  },
  "language_info": {
   "codemirror_mode": {
    "name": "ipython",
    "version": 3
   },
   "file_extension": ".py",
   "mimetype": "text/x-python",
   "name": "python",
   "nbconvert_exporter": "python",
   "pygments_lexer": "ipython3",
   "version": "3.11.5"
  }
 },
 "nbformat": 4,
 "nbformat_minor": 5
}
